{
  "nbformat": 4,
  "nbformat_minor": 0,
  "metadata": {
    "colab": {
      "name": "MTS_teta__Kaggle.ipynb",
      "provenance": [],
      "mount_file_id": "13OR6TJ5ud1WnV9QLSKeIzeeaF8nU3rTC",
      "authorship_tag": "ABX9TyOLRu/9Wj52y0RZoqXPXPdv"
    },
    "kernelspec": {
      "name": "python3",
      "display_name": "Python 3"
    },
    "language_info": {
      "name": "python"
    }
  },
  "cells": [
    {
      "cell_type": "markdown",
      "metadata": {
        "id": "QoN5-Ph6jPnI"
      },
      "source": [
        "#Imports"
      ]
    },
    {
      "cell_type": "code",
      "metadata": {
        "id": "SQLg3Nx9jRAC"
      },
      "source": [
        "import numpy as np \n",
        "import pandas as pd \n",
        "import scipy.sparse as sp\n",
        "from itertools import islice, cycle\n",
        "from more_itertools import pairwise\n",
        "from tqdm.auto import tqdm"
      ],
      "execution_count": 23,
      "outputs": []
    },
    {
      "cell_type": "markdown",
      "metadata": {
        "id": "iw9gI0hpjTUA"
      },
      "source": [
        "#Load data/preprocessing"
      ]
    },
    {
      "cell_type": "code",
      "metadata": {
        "id": "hNopLUeQjjow"
      },
      "source": [
        "df = pd.read_csv('/content/drive/MyDrive/Colab Notebooks/MTS_teta/Kaggle_recomend_sys/interactions.csv')\n",
        "users = pd.read_csv('/content/drive/MyDrive/Colab Notebooks/MTS_teta/Kaggle_recomend_sys/users.csv')\n",
        "items = pd.read_csv('/content/drive/MyDrive/Colab Notebooks/MTS_teta/Kaggle_recomend_sys/items.csv')"
      ],
      "execution_count": null,
      "outputs": []
    },
    {
      "cell_type": "markdown",
      "metadata": {
        "id": "jis-xl_bweeH"
      },
      "source": [
        "Interactions\n",
        "\n",
        "----"
      ]
    },
    {
      "cell_type": "code",
      "metadata": {
        "colab": {
          "base_uri": "https://localhost:8080/"
        },
        "id": "vDvp326yrLR8",
        "outputId": "64d75093-c51c-4640-9068-3b4fbe47567f"
      },
      "source": [
        "df.info()"
      ],
      "execution_count": 19,
      "outputs": [
        {
          "output_type": "stream",
          "text": [
            "<class 'pandas.core.frame.DataFrame'>\n",
            "RangeIndex: 1562617 entries, 0 to 1562616\n",
            "Data columns (total 5 columns):\n",
            " #   Column      Non-Null Count    Dtype  \n",
            "---  ------      --------------    -----  \n",
            " 0   user_id     1562617 non-null  int64  \n",
            " 1   item_id     1562617 non-null  int64  \n",
            " 2   progress    1562617 non-null  int64  \n",
            " 3   rating      323571 non-null   float64\n",
            " 4   start_date  1562617 non-null  object \n",
            "dtypes: float64(1), int64(3), object(1)\n",
            "memory usage: 59.6+ MB\n"
          ],
          "name": "stdout"
        }
      ]
    },
    {
      "cell_type": "code",
      "metadata": {
        "id": "MoidNMbZqMPy"
      },
      "source": [
        "df['start_date'] = pd.to_datetime(df['start_date'])\n",
        "# find duplicates\n",
        "duplicates = df.duplicated(subset=['user_id', 'item_id'], keep=False)\n",
        "df_duplicates = df[duplicates].sort_values(by=['user_id', 'start_date'])\n",
        "# stay only unique \n",
        "df = df[~duplicates]"
      ],
      "execution_count": 20,
      "outputs": []
    },
    {
      "cell_type": "code",
      "metadata": {
        "id": "wqV3n_7PqxUh"
      },
      "source": [
        "# add info with max progress/rating and min start_date in duplicates samples\n",
        "df_duplicates = df_duplicates.groupby(['user_id', 'item_id']).agg({\n",
        "    'progress': 'max',\n",
        "    'rating': 'max',\n",
        "    'start_date': 'min'\n",
        "})\n",
        "df = df.append(df_duplicates.reset_index(), ignore_index=True)"
      ],
      "execution_count": 21,
      "outputs": []
    },
    {
      "cell_type": "code",
      "metadata": {
        "id": "XWWbaqpLrEgn"
      },
      "source": [
        "df['progress'] = df['progress'].astype(np.int8)\n",
        "df['rating'] = df['rating'].astype(pd.SparseDtype(np.float32, np.nan))"
      ],
      "execution_count": 24,
      "outputs": []
    },
    {
      "cell_type": "code",
      "metadata": {
        "colab": {
          "base_uri": "https://localhost:8080/"
        },
        "id": "zcm0pL83rFc4",
        "outputId": "b90b5b45-2134-47da-c1e1-6dad0927f7ed"
      },
      "source": [
        "df.info()"
      ],
      "execution_count": 25,
      "outputs": [
        {
          "output_type": "stream",
          "text": [
            "<class 'pandas.core.frame.DataFrame'>\n",
            "RangeIndex: 1562505 entries, 0 to 1562504\n",
            "Data columns (total 5 columns):\n",
            " #   Column      Non-Null Count    Dtype               \n",
            "---  ------      --------------    -----               \n",
            " 0   user_id     1562505 non-null  int64               \n",
            " 1   item_id     1562505 non-null  int64               \n",
            " 2   progress    1562505 non-null  int8                \n",
            " 3   rating      323563 non-null   Sparse[float32, nan]\n",
            " 4   start_date  1562505 non-null  datetime64[ns]      \n",
            "dtypes: Sparse[float32, nan](1), datetime64[ns](1), int64(2), int8(1)\n",
            "memory usage: 39.7 MB\n"
          ],
          "name": "stdout"
        }
      ]
    },
    {
      "cell_type": "code",
      "metadata": {
        "id": "V3iVvWGIwRGi"
      },
      "source": [
        "df.to_pickle('interactions_preprocessed.pickle')"
      ],
      "execution_count": 26,
      "outputs": []
    },
    {
      "cell_type": "markdown",
      "metadata": {
        "id": "KsfMUS4MwmaF"
      },
      "source": [
        "Items\n",
        "\n",
        "----"
      ]
    },
    {
      "cell_type": "code",
      "metadata": {
        "colab": {
          "base_uri": "https://localhost:8080/",
          "height": 204
        },
        "id": "1MjVvHRlwoc-",
        "outputId": "b700fb75-863c-4982-b519-b77decfc6fce"
      },
      "source": [
        "users.head()"
      ],
      "execution_count": 27,
      "outputs": [
        {
          "output_type": "execute_result",
          "data": {
            "text/html": [
              "<div>\n",
              "<style scoped>\n",
              "    .dataframe tbody tr th:only-of-type {\n",
              "        vertical-align: middle;\n",
              "    }\n",
              "\n",
              "    .dataframe tbody tr th {\n",
              "        vertical-align: top;\n",
              "    }\n",
              "\n",
              "    .dataframe thead th {\n",
              "        text-align: right;\n",
              "    }\n",
              "</style>\n",
              "<table border=\"1\" class=\"dataframe\">\n",
              "  <thead>\n",
              "    <tr style=\"text-align: right;\">\n",
              "      <th></th>\n",
              "      <th>user_id</th>\n",
              "      <th>age</th>\n",
              "      <th>sex</th>\n",
              "    </tr>\n",
              "  </thead>\n",
              "  <tbody>\n",
              "    <tr>\n",
              "      <th>0</th>\n",
              "      <td>0</td>\n",
              "      <td>45_54</td>\n",
              "      <td>1.0</td>\n",
              "    </tr>\n",
              "    <tr>\n",
              "      <th>1</th>\n",
              "      <td>1</td>\n",
              "      <td>25_34</td>\n",
              "      <td>0.0</td>\n",
              "    </tr>\n",
              "    <tr>\n",
              "      <th>2</th>\n",
              "      <td>2</td>\n",
              "      <td>45_54</td>\n",
              "      <td>0.0</td>\n",
              "    </tr>\n",
              "    <tr>\n",
              "      <th>3</th>\n",
              "      <td>3</td>\n",
              "      <td>65_inf</td>\n",
              "      <td>0.0</td>\n",
              "    </tr>\n",
              "    <tr>\n",
              "      <th>4</th>\n",
              "      <td>4</td>\n",
              "      <td>18_24</td>\n",
              "      <td>0.0</td>\n",
              "    </tr>\n",
              "  </tbody>\n",
              "</table>\n",
              "</div>"
            ],
            "text/plain": [
              "   user_id     age  sex\n",
              "0        0   45_54  1.0\n",
              "1        1   25_34  0.0\n",
              "2        2   45_54  0.0\n",
              "3        3  65_inf  0.0\n",
              "4        4   18_24  0.0"
            ]
          },
          "metadata": {
            "tags": []
          },
          "execution_count": 27
        }
      ]
    },
    {
      "cell_type": "code",
      "metadata": {
        "colab": {
          "base_uri": "https://localhost:8080/"
        },
        "id": "llqJlgZgw0qS",
        "outputId": "0b296d55-4f14-4a60-9955-d59ccdffe40d"
      },
      "source": [
        "users.info()"
      ],
      "execution_count": 28,
      "outputs": [
        {
          "output_type": "stream",
          "text": [
            "<class 'pandas.core.frame.DataFrame'>\n",
            "RangeIndex: 137254 entries, 0 to 137253\n",
            "Data columns (total 3 columns):\n",
            " #   Column   Non-Null Count   Dtype  \n",
            "---  ------   --------------   -----  \n",
            " 0   user_id  137254 non-null  int64  \n",
            " 1   age      137244 non-null  object \n",
            " 2   sex      135640 non-null  float64\n",
            "dtypes: float64(1), int64(1), object(1)\n",
            "memory usage: 3.1+ MB\n"
          ],
          "name": "stdout"
        }
      ]
    },
    {
      "cell_type": "code",
      "metadata": {
        "colab": {
          "base_uri": "https://localhost:8080/"
        },
        "id": "Y9XqTRPSw4sY",
        "outputId": "f4e6f0bc-5532-409a-8122-5ddadbb4e8d7"
      },
      "source": [
        "users.nunique()"
      ],
      "execution_count": 30,
      "outputs": [
        {
          "output_type": "execute_result",
          "data": {
            "text/plain": [
              "user_id    137254\n",
              "age             6\n",
              "sex             2\n",
              "dtype: int64"
            ]
          },
          "metadata": {
            "tags": []
          },
          "execution_count": 30
        }
      ]
    },
    {
      "cell_type": "code",
      "metadata": {
        "id": "69dDlLavw4cu"
      },
      "source": [
        "users['age'] = users['age'].astype('category')\n",
        "users['sex'] = users['sex'].astype(pd.SparseDtype(np.float32, np.nan))"
      ],
      "execution_count": 32,
      "outputs": []
    },
    {
      "cell_type": "code",
      "metadata": {
        "colab": {
          "base_uri": "https://localhost:8080/"
        },
        "id": "ZsCzr6xLxIAc",
        "outputId": "68ec184f-9295-403a-91b1-ce399edffe67"
      },
      "source": [
        "interaction_users = df['user_id'].unique()\n",
        "\n",
        "common_users = len(np.intersect1d(interaction_users, users['user_id']))\n",
        "users_only_in_interaction = len(np.setdiff1d(interaction_users, users['user_id']))\n",
        "users_only_features = len(np.setdiff1d(users['user_id'], interaction_users))\n",
        "total_users = common_users + users_only_in_interaction + users_only_features\n",
        "print(f'Кол-во пользователей - {total_users}')\n",
        "print(f'Кол-во пользователей c взаимодействиями и фичами - {common_users} ({common_users / total_users * 100:.2f}%)')\n",
        "print(f'Кол-во пользователей только c взаимодействиями - {users_only_in_interaction} ({users_only_in_interaction / total_users * 100:.2f}%)')\n",
        "print(f'Кол-во пользователей только c фичами - {users_only_features} ({users_only_features / total_users * 100:.2f}%)')"
      ],
      "execution_count": 34,
      "outputs": [
        {
          "output_type": "stream",
          "text": [
            "Кол-во пользователей - 164771\n",
            "Кол-во пользователей c взаимодействиями и фичами - 130808 (79.39%)\n",
            "Кол-во пользователей только c взаимодействиями - 27517 (16.70%)\n",
            "Кол-во пользователей только c фичами - 6446 (3.91%)\n"
          ],
          "name": "stdout"
        }
      ]
    },
    {
      "cell_type": "code",
      "metadata": {
        "id": "althK0IkxbY0"
      },
      "source": [
        "users.to_pickle('users_preprocessed.pickle')"
      ],
      "execution_count": 35,
      "outputs": []
    },
    {
      "cell_type": "markdown",
      "metadata": {
        "id": "R2Od8QStwpAp"
      },
      "source": [
        "Users\n",
        "\n",
        "----"
      ]
    },
    {
      "cell_type": "code",
      "metadata": {
        "colab": {
          "base_uri": "https://localhost:8080/",
          "height": 204
        },
        "id": "QkIslbbLwpnj",
        "outputId": "0dafd0fb-a98c-4b92-db64-2dc753aa0f09"
      },
      "source": [
        "items.head()"
      ],
      "execution_count": 37,
      "outputs": [
        {
          "output_type": "execute_result",
          "data": {
            "text/html": [
              "<div>\n",
              "<style scoped>\n",
              "    .dataframe tbody tr th:only-of-type {\n",
              "        vertical-align: middle;\n",
              "    }\n",
              "\n",
              "    .dataframe tbody tr th {\n",
              "        vertical-align: top;\n",
              "    }\n",
              "\n",
              "    .dataframe thead th {\n",
              "        text-align: right;\n",
              "    }\n",
              "</style>\n",
              "<table border=\"1\" class=\"dataframe\">\n",
              "  <thead>\n",
              "    <tr style=\"text-align: right;\">\n",
              "      <th></th>\n",
              "      <th>id</th>\n",
              "      <th>title</th>\n",
              "      <th>genres</th>\n",
              "      <th>authors</th>\n",
              "      <th>year</th>\n",
              "    </tr>\n",
              "  </thead>\n",
              "  <tbody>\n",
              "    <tr>\n",
              "      <th>0</th>\n",
              "      <td>248031</td>\n",
              "      <td>Ворон-челобитчик</td>\n",
              "      <td>Зарубежные детские книги,Сказки,Зарубежная кла...</td>\n",
              "      <td>Михаил Салтыков-Щедрин</td>\n",
              "      <td>1886</td>\n",
              "    </tr>\n",
              "    <tr>\n",
              "      <th>1</th>\n",
              "      <td>256084</td>\n",
              "      <td>Скрипка Ротшильда</td>\n",
              "      <td>Классическая проза,Литература 19 века,Русская ...</td>\n",
              "      <td>Антон Чехов</td>\n",
              "      <td>1894</td>\n",
              "    </tr>\n",
              "    <tr>\n",
              "      <th>2</th>\n",
              "      <td>134166</td>\n",
              "      <td>Испорченные дети</td>\n",
              "      <td>Зарубежная классика,Классическая проза,Литерат...</td>\n",
              "      <td>Михаил Салтыков-Щедрин</td>\n",
              "      <td>1869</td>\n",
              "    </tr>\n",
              "    <tr>\n",
              "      <th>3</th>\n",
              "      <td>281311</td>\n",
              "      <td>Странный человек</td>\n",
              "      <td>Пьесы и драматургия,Литература 19 века</td>\n",
              "      <td>Михаил Лермонтов</td>\n",
              "      <td>1831</td>\n",
              "    </tr>\n",
              "    <tr>\n",
              "      <th>4</th>\n",
              "      <td>213473</td>\n",
              "      <td>Господа ташкентцы</td>\n",
              "      <td>Зарубежная классика,Классическая проза,Литерат...</td>\n",
              "      <td>Михаил Салтыков-Щедрин</td>\n",
              "      <td>1873</td>\n",
              "    </tr>\n",
              "  </tbody>\n",
              "</table>\n",
              "</div>"
            ],
            "text/plain": [
              "       id              title  ...                 authors  year\n",
              "0  248031   Ворон-челобитчик  ...  Михаил Салтыков-Щедрин  1886\n",
              "1  256084  Скрипка Ротшильда  ...             Антон Чехов  1894\n",
              "2  134166   Испорченные дети  ...  Михаил Салтыков-Щедрин  1869\n",
              "3  281311   Странный человек  ...        Михаил Лермонтов  1831\n",
              "4  213473  Господа ташкентцы  ...  Михаил Салтыков-Щедрин  1873\n",
              "\n",
              "[5 rows x 5 columns]"
            ]
          },
          "metadata": {
            "tags": []
          },
          "execution_count": 37
        }
      ]
    },
    {
      "cell_type": "code",
      "metadata": {
        "colab": {
          "base_uri": "https://localhost:8080/"
        },
        "id": "Sde8Bdoayga6",
        "outputId": "6b3ae943-12e1-4447-da4c-0ca3aa212022"
      },
      "source": [
        "items.info(memory_usage='full') # year has object type ???"
      ],
      "execution_count": 39,
      "outputs": [
        {
          "output_type": "stream",
          "text": [
            "<class 'pandas.core.frame.DataFrame'>\n",
            "RangeIndex: 63758 entries, 0 to 63757\n",
            "Data columns (total 5 columns):\n",
            " #   Column   Non-Null Count  Dtype \n",
            "---  ------   --------------  ----- \n",
            " 0   id       63758 non-null  int64 \n",
            " 1   title    63758 non-null  object\n",
            " 2   genres   63753 non-null  object\n",
            " 3   authors  56700 non-null  object\n",
            " 4   year     49508 non-null  object\n",
            "dtypes: int64(1), object(4)\n",
            "memory usage: 2.4+ MB\n"
          ],
          "name": "stdout"
        }
      ]
    },
    {
      "cell_type": "code",
      "metadata": {
        "id": "nqaZCSSHymtC"
      },
      "source": [
        "def num_bytes_format(num_bytes, float_prec=4):\n",
        "    units = ['bytes', 'Kb', 'Mb', 'Gb', 'Tb', 'Pb', 'Eb']\n",
        "    for unit in units[:-1]:\n",
        "        if abs(num_bytes) < 1000:\n",
        "            return f'{num_bytes:.{float_prec}f} {unit}'\n",
        "        num_bytes /= 1000\n",
        "    return f'{num_bytes:.4f} {units[-1]}'"
      ],
      "execution_count": 40,
      "outputs": []
    },
    {
      "cell_type": "code",
      "metadata": {
        "colab": {
          "base_uri": "https://localhost:8080/",
          "height": 35
        },
        "id": "LaERclObywpA",
        "outputId": "13d163d6-b376-46d0-cfac-ccb467f569df"
      },
      "source": [
        "num_bytes = items.memory_usage(deep=True).sum()\n",
        "num_bytes_format(num_bytes)"
      ],
      "execution_count": 42,
      "outputs": [
        {
          "output_type": "execute_result",
          "data": {
            "application/vnd.google.colaboratory.intrinsic+json": {
              "type": "string"
            },
            "text/plain": [
              "'30.0965 Mb'"
            ]
          },
          "metadata": {
            "tags": []
          },
          "execution_count": 42
        }
      ]
    },
    {
      "cell_type": "code",
      "metadata": {
        "colab": {
          "base_uri": "https://localhost:8080/"
        },
        "id": "KzHbrVnZy92J",
        "outputId": "80fc7eea-5ac9-4042-a8d9-dbda44dfd630"
      },
      "source": [
        "items.nunique()"
      ],
      "execution_count": 44,
      "outputs": [
        {
          "output_type": "execute_result",
          "data": {
            "text/plain": [
              "id         63758\n",
              "title      58093\n",
              "genres     11091\n",
              "authors    17024\n",
              "year        1074\n",
              "dtype: int64"
            ]
          },
          "metadata": {
            "tags": []
          },
          "execution_count": 44
        }
      ]
    },
    {
      "cell_type": "code",
      "metadata": {
        "colab": {
          "base_uri": "https://localhost:8080/"
        },
        "id": "9RYByagzzI5L",
        "outputId": "09cecc75-3a9a-46d9-a54c-e3757477001a"
      },
      "source": [
        "items['year'].value_counts().tail(25)"
      ],
      "execution_count": 46,
      "outputs": [
        {
          "output_type": "execute_result",
          "data": {
            "text/plain": [
              "1876, 1903–1908           1\n",
              "1878, 2018                1\n",
              "1996, 1997, 1999, 2013    1\n",
              "1942–1945                 1\n",
              "2002–2005                 1\n",
              "1992, 1993, 2003          1\n",
              "1970, 1992                1\n",
              "1922, 1940                1\n",
              "2001, 2015                1\n",
              "2012, 2016                1\n",
              "1591                      1\n",
              "1836, 1840                1\n",
              "1993, 1998                1\n",
              "2004, 2007                1\n",
              "1953-1955                 1\n",
              "1967, 1968                1\n",
              "до 1885 г.                1\n",
              "1798                      1\n",
              "2012, 2017                1\n",
              "1924, 1932, 1934          1\n",
              "1935, 1945                1\n",
              "1947, 1975, 2012          1\n",
              "2004-2006                 1\n",
              "1875-1877                 1\n",
              "1848, 1835                1\n",
              "Name: year, dtype: int64"
            ]
          },
          "metadata": {
            "tags": []
          },
          "execution_count": 46
        }
      ]
    },
    {
      "cell_type": "code",
      "metadata": {
        "colab": {
          "base_uri": "https://localhost:8080/",
          "height": 80
        },
        "id": "ddf2-VIoz0i8",
        "outputId": "eb39a99b-d3d6-4a29-fd85-c349cf227586"
      },
      "source": [
        "items[items['year'] == '1898, 1897, 1901']"
      ],
      "execution_count": 48,
      "outputs": [
        {
          "output_type": "execute_result",
          "data": {
            "text/html": [
              "<div>\n",
              "<style scoped>\n",
              "    .dataframe tbody tr th:only-of-type {\n",
              "        vertical-align: middle;\n",
              "    }\n",
              "\n",
              "    .dataframe tbody tr th {\n",
              "        vertical-align: top;\n",
              "    }\n",
              "\n",
              "    .dataframe thead th {\n",
              "        text-align: right;\n",
              "    }\n",
              "</style>\n",
              "<table border=\"1\" class=\"dataframe\">\n",
              "  <thead>\n",
              "    <tr style=\"text-align: right;\">\n",
              "      <th></th>\n",
              "      <th>id</th>\n",
              "      <th>title</th>\n",
              "      <th>genres</th>\n",
              "      <th>authors</th>\n",
              "      <th>year</th>\n",
              "    </tr>\n",
              "  </thead>\n",
              "  <tbody>\n",
              "    <tr>\n",
              "      <th>43260</th>\n",
              "      <td>86545</td>\n",
              "      <td>«Мальчик, который рисовал кошек» и другие исто...</td>\n",
              "      <td>Ужасы,Мистика,Зарубежная классика,Литература 1...</td>\n",
              "      <td>Лафкадио Хирн</td>\n",
              "      <td>1898, 1897, 1901</td>\n",
              "    </tr>\n",
              "  </tbody>\n",
              "</table>\n",
              "</div>"
            ],
            "text/plain": [
              "          id  ...              year\n",
              "43260  86545  ...  1898, 1897, 1901\n",
              "\n",
              "[1 rows x 5 columns]"
            ]
          },
          "metadata": {
            "tags": []
          },
          "execution_count": 48
        }
      ]
    },
    {
      "cell_type": "code",
      "metadata": {
        "id": "avFY6Js5z71-"
      },
      "source": [
        ""
      ],
      "execution_count": null,
      "outputs": []
    },
    {
      "cell_type": "markdown",
      "metadata": {
        "id": "aCoHyxngmUpx"
      },
      "source": [
        "##Preprocessing"
      ]
    },
    {
      "cell_type": "code",
      "metadata": {
        "id": "Jc9Y5MTQmW6-"
      },
      "source": [
        ""
      ],
      "execution_count": null,
      "outputs": []
    }
  ]
}