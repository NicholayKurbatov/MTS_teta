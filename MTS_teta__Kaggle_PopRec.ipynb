{
  "nbformat": 4,
  "nbformat_minor": 0,
  "metadata": {
    "colab": {
      "name": "MTS_teta__Kaggle_PopRec.ipynb",
      "provenance": [],
      "mount_file_id": "1ryJp8oPYG1eiR2i7w10id6JSSFaaGZnX",
      "authorship_tag": "ABX9TyOLmcf+DyOGgTNIfRx8oJEC"
    },
    "kernelspec": {
      "name": "python3",
      "display_name": "Python 3"
    },
    "language_info": {
      "name": "python"
    },
    "widgets": {
      "application/vnd.jupyter.widget-state+json": {
        "bedca107ef6b4047b78a1817ef315904": {
          "model_module": "@jupyter-widgets/controls",
          "model_name": "HBoxModel",
          "state": {
            "_view_name": "HBoxView",
            "_dom_classes": [],
            "_model_name": "HBoxModel",
            "_view_module": "@jupyter-widgets/controls",
            "_model_module_version": "1.5.0",
            "_view_count": null,
            "_view_module_version": "1.5.0",
            "box_style": "",
            "layout": "IPY_MODEL_5c3b89d8dba24c8db2584cbed1b11e5d",
            "_model_module": "@jupyter-widgets/controls",
            "children": [
              "IPY_MODEL_7832ac5b4bbb4f52ab8e0ee8555765f8",
              "IPY_MODEL_606307c021144a1982308a72df810f4c"
            ]
          }
        },
        "5c3b89d8dba24c8db2584cbed1b11e5d": {
          "model_module": "@jupyter-widgets/base",
          "model_name": "LayoutModel",
          "state": {
            "_view_name": "LayoutView",
            "grid_template_rows": null,
            "right": null,
            "justify_content": null,
            "_view_module": "@jupyter-widgets/base",
            "overflow": null,
            "_model_module_version": "1.2.0",
            "_view_count": null,
            "flex_flow": null,
            "width": null,
            "min_width": null,
            "border": null,
            "align_items": null,
            "bottom": null,
            "_model_module": "@jupyter-widgets/base",
            "top": null,
            "grid_column": null,
            "overflow_y": null,
            "overflow_x": null,
            "grid_auto_flow": null,
            "grid_area": null,
            "grid_template_columns": null,
            "flex": null,
            "_model_name": "LayoutModel",
            "justify_items": null,
            "grid_row": null,
            "max_height": null,
            "align_content": null,
            "visibility": null,
            "align_self": null,
            "height": null,
            "min_height": null,
            "padding": null,
            "grid_auto_rows": null,
            "grid_gap": null,
            "max_width": null,
            "order": null,
            "_view_module_version": "1.2.0",
            "grid_template_areas": null,
            "object_position": null,
            "object_fit": null,
            "grid_auto_columns": null,
            "margin": null,
            "display": null,
            "left": null
          }
        },
        "7832ac5b4bbb4f52ab8e0ee8555765f8": {
          "model_module": "@jupyter-widgets/controls",
          "model_name": "FloatProgressModel",
          "state": {
            "_view_name": "ProgressView",
            "style": "IPY_MODEL_8b06a71abff04fe4895700f67a245441",
            "_dom_classes": [],
            "description": "100%",
            "_model_name": "FloatProgressModel",
            "bar_style": "success",
            "max": 3074,
            "_view_module": "@jupyter-widgets/controls",
            "_model_module_version": "1.5.0",
            "value": 3074,
            "_view_count": null,
            "_view_module_version": "1.5.0",
            "orientation": "horizontal",
            "min": 0,
            "description_tooltip": null,
            "_model_module": "@jupyter-widgets/controls",
            "layout": "IPY_MODEL_7402a34015b54907b1a4b6abba9675df"
          }
        },
        "606307c021144a1982308a72df810f4c": {
          "model_module": "@jupyter-widgets/controls",
          "model_name": "HTMLModel",
          "state": {
            "_view_name": "HTMLView",
            "style": "IPY_MODEL_a8e1adab79344e88a6953ab9150575c2",
            "_dom_classes": [],
            "description": "",
            "_model_name": "HTMLModel",
            "placeholder": "​",
            "_view_module": "@jupyter-widgets/controls",
            "_model_module_version": "1.5.0",
            "value": " 3074/3074 [10:56&lt;00:00,  4.69it/s]",
            "_view_count": null,
            "_view_module_version": "1.5.0",
            "description_tooltip": null,
            "_model_module": "@jupyter-widgets/controls",
            "layout": "IPY_MODEL_d716f9889202478a8506cd656123e199"
          }
        },
        "8b06a71abff04fe4895700f67a245441": {
          "model_module": "@jupyter-widgets/controls",
          "model_name": "ProgressStyleModel",
          "state": {
            "_view_name": "StyleView",
            "_model_name": "ProgressStyleModel",
            "description_width": "initial",
            "_view_module": "@jupyter-widgets/base",
            "_model_module_version": "1.5.0",
            "_view_count": null,
            "_view_module_version": "1.2.0",
            "bar_color": null,
            "_model_module": "@jupyter-widgets/controls"
          }
        },
        "7402a34015b54907b1a4b6abba9675df": {
          "model_module": "@jupyter-widgets/base",
          "model_name": "LayoutModel",
          "state": {
            "_view_name": "LayoutView",
            "grid_template_rows": null,
            "right": null,
            "justify_content": null,
            "_view_module": "@jupyter-widgets/base",
            "overflow": null,
            "_model_module_version": "1.2.0",
            "_view_count": null,
            "flex_flow": null,
            "width": null,
            "min_width": null,
            "border": null,
            "align_items": null,
            "bottom": null,
            "_model_module": "@jupyter-widgets/base",
            "top": null,
            "grid_column": null,
            "overflow_y": null,
            "overflow_x": null,
            "grid_auto_flow": null,
            "grid_area": null,
            "grid_template_columns": null,
            "flex": null,
            "_model_name": "LayoutModel",
            "justify_items": null,
            "grid_row": null,
            "max_height": null,
            "align_content": null,
            "visibility": null,
            "align_self": null,
            "height": null,
            "min_height": null,
            "padding": null,
            "grid_auto_rows": null,
            "grid_gap": null,
            "max_width": null,
            "order": null,
            "_view_module_version": "1.2.0",
            "grid_template_areas": null,
            "object_position": null,
            "object_fit": null,
            "grid_auto_columns": null,
            "margin": null,
            "display": null,
            "left": null
          }
        },
        "a8e1adab79344e88a6953ab9150575c2": {
          "model_module": "@jupyter-widgets/controls",
          "model_name": "DescriptionStyleModel",
          "state": {
            "_view_name": "StyleView",
            "_model_name": "DescriptionStyleModel",
            "description_width": "",
            "_view_module": "@jupyter-widgets/base",
            "_model_module_version": "1.5.0",
            "_view_count": null,
            "_view_module_version": "1.2.0",
            "_model_module": "@jupyter-widgets/controls"
          }
        },
        "d716f9889202478a8506cd656123e199": {
          "model_module": "@jupyter-widgets/base",
          "model_name": "LayoutModel",
          "state": {
            "_view_name": "LayoutView",
            "grid_template_rows": null,
            "right": null,
            "justify_content": null,
            "_view_module": "@jupyter-widgets/base",
            "overflow": null,
            "_model_module_version": "1.2.0",
            "_view_count": null,
            "flex_flow": null,
            "width": null,
            "min_width": null,
            "border": null,
            "align_items": null,
            "bottom": null,
            "_model_module": "@jupyter-widgets/base",
            "top": null,
            "grid_column": null,
            "overflow_y": null,
            "overflow_x": null,
            "grid_auto_flow": null,
            "grid_area": null,
            "grid_template_columns": null,
            "flex": null,
            "_model_name": "LayoutModel",
            "justify_items": null,
            "grid_row": null,
            "max_height": null,
            "align_content": null,
            "visibility": null,
            "align_self": null,
            "height": null,
            "min_height": null,
            "padding": null,
            "grid_auto_rows": null,
            "grid_gap": null,
            "max_width": null,
            "order": null,
            "_view_module_version": "1.2.0",
            "grid_template_areas": null,
            "object_position": null,
            "object_fit": null,
            "grid_auto_columns": null,
            "margin": null,
            "display": null,
            "left": null
          }
        },
        "bbe7883d277e4ed691bf75ac8932260b": {
          "model_module": "@jupyter-widgets/controls",
          "model_name": "HBoxModel",
          "state": {
            "_view_name": "HBoxView",
            "_dom_classes": [],
            "_model_name": "HBoxModel",
            "_view_module": "@jupyter-widgets/controls",
            "_model_module_version": "1.5.0",
            "_view_count": null,
            "_view_module_version": "1.5.0",
            "box_style": "",
            "layout": "IPY_MODEL_b61b9d2e877242738edcb5b950f0b858",
            "_model_module": "@jupyter-widgets/controls",
            "children": [
              "IPY_MODEL_f87328b6095149b48ac5c755aeaae331",
              "IPY_MODEL_694afca8b3004bdf9a884a0a700c6082"
            ]
          }
        },
        "b61b9d2e877242738edcb5b950f0b858": {
          "model_module": "@jupyter-widgets/base",
          "model_name": "LayoutModel",
          "state": {
            "_view_name": "LayoutView",
            "grid_template_rows": null,
            "right": null,
            "justify_content": null,
            "_view_module": "@jupyter-widgets/base",
            "overflow": null,
            "_model_module_version": "1.2.0",
            "_view_count": null,
            "flex_flow": null,
            "width": null,
            "min_width": null,
            "border": null,
            "align_items": null,
            "bottom": null,
            "_model_module": "@jupyter-widgets/base",
            "top": null,
            "grid_column": null,
            "overflow_y": null,
            "overflow_x": null,
            "grid_auto_flow": null,
            "grid_area": null,
            "grid_template_columns": null,
            "flex": null,
            "_model_name": "LayoutModel",
            "justify_items": null,
            "grid_row": null,
            "max_height": null,
            "align_content": null,
            "visibility": null,
            "align_self": null,
            "height": null,
            "min_height": null,
            "padding": null,
            "grid_auto_rows": null,
            "grid_gap": null,
            "max_width": null,
            "order": null,
            "_view_module_version": "1.2.0",
            "grid_template_areas": null,
            "object_position": null,
            "object_fit": null,
            "grid_auto_columns": null,
            "margin": null,
            "display": null,
            "left": null
          }
        },
        "f87328b6095149b48ac5c755aeaae331": {
          "model_module": "@jupyter-widgets/controls",
          "model_name": "FloatProgressModel",
          "state": {
            "_view_name": "ProgressView",
            "style": "IPY_MODEL_134ed10a58f74f739324bb61b24319aa",
            "_dom_classes": [],
            "description": "100%",
            "_model_name": "FloatProgressModel",
            "bar_style": "success",
            "max": 91635,
            "_view_module": "@jupyter-widgets/controls",
            "_model_module_version": "1.5.0",
            "value": 91635,
            "_view_count": null,
            "_view_module_version": "1.5.0",
            "orientation": "horizontal",
            "min": 0,
            "description_tooltip": null,
            "_model_module": "@jupyter-widgets/controls",
            "layout": "IPY_MODEL_48f22e30b1454c4dba424314ee007a78"
          }
        },
        "694afca8b3004bdf9a884a0a700c6082": {
          "model_module": "@jupyter-widgets/controls",
          "model_name": "HTMLModel",
          "state": {
            "_view_name": "HTMLView",
            "style": "IPY_MODEL_271ce67a352449f896e6a1a011d07b1c",
            "_dom_classes": [],
            "description": "",
            "_model_name": "HTMLModel",
            "placeholder": "​",
            "_view_module": "@jupyter-widgets/controls",
            "_model_module_version": "1.5.0",
            "value": " 91635/91635 [00:41&lt;00:00, 2215.90it/s]",
            "_view_count": null,
            "_view_module_version": "1.5.0",
            "description_tooltip": null,
            "_model_module": "@jupyter-widgets/controls",
            "layout": "IPY_MODEL_f3f725dade13403b8303a2f6c99100c3"
          }
        },
        "134ed10a58f74f739324bb61b24319aa": {
          "model_module": "@jupyter-widgets/controls",
          "model_name": "ProgressStyleModel",
          "state": {
            "_view_name": "StyleView",
            "_model_name": "ProgressStyleModel",
            "description_width": "initial",
            "_view_module": "@jupyter-widgets/base",
            "_model_module_version": "1.5.0",
            "_view_count": null,
            "_view_module_version": "1.2.0",
            "bar_color": null,
            "_model_module": "@jupyter-widgets/controls"
          }
        },
        "48f22e30b1454c4dba424314ee007a78": {
          "model_module": "@jupyter-widgets/base",
          "model_name": "LayoutModel",
          "state": {
            "_view_name": "LayoutView",
            "grid_template_rows": null,
            "right": null,
            "justify_content": null,
            "_view_module": "@jupyter-widgets/base",
            "overflow": null,
            "_model_module_version": "1.2.0",
            "_view_count": null,
            "flex_flow": null,
            "width": null,
            "min_width": null,
            "border": null,
            "align_items": null,
            "bottom": null,
            "_model_module": "@jupyter-widgets/base",
            "top": null,
            "grid_column": null,
            "overflow_y": null,
            "overflow_x": null,
            "grid_auto_flow": null,
            "grid_area": null,
            "grid_template_columns": null,
            "flex": null,
            "_model_name": "LayoutModel",
            "justify_items": null,
            "grid_row": null,
            "max_height": null,
            "align_content": null,
            "visibility": null,
            "align_self": null,
            "height": null,
            "min_height": null,
            "padding": null,
            "grid_auto_rows": null,
            "grid_gap": null,
            "max_width": null,
            "order": null,
            "_view_module_version": "1.2.0",
            "grid_template_areas": null,
            "object_position": null,
            "object_fit": null,
            "grid_auto_columns": null,
            "margin": null,
            "display": null,
            "left": null
          }
        },
        "271ce67a352449f896e6a1a011d07b1c": {
          "model_module": "@jupyter-widgets/controls",
          "model_name": "DescriptionStyleModel",
          "state": {
            "_view_name": "StyleView",
            "_model_name": "DescriptionStyleModel",
            "description_width": "",
            "_view_module": "@jupyter-widgets/base",
            "_model_module_version": "1.5.0",
            "_view_count": null,
            "_view_module_version": "1.2.0",
            "_model_module": "@jupyter-widgets/controls"
          }
        },
        "f3f725dade13403b8303a2f6c99100c3": {
          "model_module": "@jupyter-widgets/base",
          "model_name": "LayoutModel",
          "state": {
            "_view_name": "LayoutView",
            "grid_template_rows": null,
            "right": null,
            "justify_content": null,
            "_view_module": "@jupyter-widgets/base",
            "overflow": null,
            "_model_module_version": "1.2.0",
            "_view_count": null,
            "flex_flow": null,
            "width": null,
            "min_width": null,
            "border": null,
            "align_items": null,
            "bottom": null,
            "_model_module": "@jupyter-widgets/base",
            "top": null,
            "grid_column": null,
            "overflow_y": null,
            "overflow_x": null,
            "grid_auto_flow": null,
            "grid_area": null,
            "grid_template_columns": null,
            "flex": null,
            "_model_name": "LayoutModel",
            "justify_items": null,
            "grid_row": null,
            "max_height": null,
            "align_content": null,
            "visibility": null,
            "align_self": null,
            "height": null,
            "min_height": null,
            "padding": null,
            "grid_auto_rows": null,
            "grid_gap": null,
            "max_width": null,
            "order": null,
            "_view_module_version": "1.2.0",
            "grid_template_areas": null,
            "object_position": null,
            "object_fit": null,
            "grid_auto_columns": null,
            "margin": null,
            "display": null,
            "left": null
          }
        }
      }
    }
  },
  "cells": [
    {
      "cell_type": "code",
      "metadata": {
        "id": "rMVuqP9J8MKo"
      },
      "source": [
        "import numpy as np \n",
        "import pandas as pd \n",
        "pd.set_option('display.max_colwidth', None)\n",
        "\n",
        "import pickle\n",
        "\n",
        "import scipy.sparse as sp\n",
        "from itertools import islice, cycle\n",
        "from more_itertools import pairwise\n",
        "from tqdm.auto import tqdm"
      ],
      "execution_count": 76,
      "outputs": []
    },
    {
      "cell_type": "markdown",
      "metadata": {
        "id": "wYCCZJCS8bHn"
      },
      "source": [
        "#Load data"
      ]
    },
    {
      "cell_type": "code",
      "metadata": {
        "colab": {
          "base_uri": "https://localhost:8080/"
        },
        "id": "fPCnKoN48ZWU",
        "outputId": "fe66e93e-6472-4ed7-b80c-c2670e574820"
      },
      "source": [
        "df = pd.read_pickle('/content/drive/MyDrive/Colab Notebooks/MTS_teta/Kaggle_recomend_sys/interactions_preprocessed.pickle')\n",
        "df_users = pd.read_pickle('/content/drive/MyDrive/Colab Notebooks/MTS_teta/Kaggle_recomend_sys/users_preprocessed.pickle')\n",
        "df_items = pd.read_pickle('/content/drive/MyDrive/Colab Notebooks/MTS_teta/Kaggle_recomend_sys/items_preprocessed.pickle')\n",
        "\n",
        "df.shape, df_users.shape, df_items.shape"
      ],
      "execution_count": 6,
      "outputs": [
        {
          "output_type": "execute_result",
          "data": {
            "text/plain": [
              "((1562505, 5), (137254, 3), (63758, 5))"
            ]
          },
          "metadata": {
            "tags": []
          },
          "execution_count": 6
        }
      ]
    },
    {
      "cell_type": "code",
      "metadata": {
        "colab": {
          "base_uri": "https://localhost:8080/",
          "height": 204
        },
        "id": "SRCkps9B97bh",
        "outputId": "53783cbe-c037-47d0-ffa4-b86518a12b8d"
      },
      "source": [
        "df.head()"
      ],
      "execution_count": 7,
      "outputs": [
        {
          "output_type": "execute_result",
          "data": {
            "text/html": [
              "<div>\n",
              "<style scoped>\n",
              "    .dataframe tbody tr th:only-of-type {\n",
              "        vertical-align: middle;\n",
              "    }\n",
              "\n",
              "    .dataframe tbody tr th {\n",
              "        vertical-align: top;\n",
              "    }\n",
              "\n",
              "    .dataframe thead th {\n",
              "        text-align: right;\n",
              "    }\n",
              "</style>\n",
              "<table border=\"1\" class=\"dataframe\">\n",
              "  <thead>\n",
              "    <tr style=\"text-align: right;\">\n",
              "      <th></th>\n",
              "      <th>user_id</th>\n",
              "      <th>item_id</th>\n",
              "      <th>progress</th>\n",
              "      <th>rating</th>\n",
              "      <th>start_date</th>\n",
              "    </tr>\n",
              "  </thead>\n",
              "  <tbody>\n",
              "    <tr>\n",
              "      <th>0</th>\n",
              "      <td>90133</td>\n",
              "      <td>82910</td>\n",
              "      <td>100</td>\n",
              "      <td>NaN</td>\n",
              "      <td>2018-01-01</td>\n",
              "    </tr>\n",
              "    <tr>\n",
              "      <th>1</th>\n",
              "      <td>159130</td>\n",
              "      <td>331068</td>\n",
              "      <td>70</td>\n",
              "      <td>NaN</td>\n",
              "      <td>2018-01-01</td>\n",
              "    </tr>\n",
              "    <tr>\n",
              "      <th>2</th>\n",
              "      <td>80061</td>\n",
              "      <td>26540</td>\n",
              "      <td>69</td>\n",
              "      <td>4.0</td>\n",
              "      <td>2018-01-01</td>\n",
              "    </tr>\n",
              "    <tr>\n",
              "      <th>3</th>\n",
              "      <td>12811</td>\n",
              "      <td>301895</td>\n",
              "      <td>16</td>\n",
              "      <td>NaN</td>\n",
              "      <td>2018-01-01</td>\n",
              "    </tr>\n",
              "    <tr>\n",
              "      <th>4</th>\n",
              "      <td>5778</td>\n",
              "      <td>127872</td>\n",
              "      <td>100</td>\n",
              "      <td>NaN</td>\n",
              "      <td>2018-01-01</td>\n",
              "    </tr>\n",
              "  </tbody>\n",
              "</table>\n",
              "</div>"
            ],
            "text/plain": [
              "   user_id  item_id  progress  rating start_date\n",
              "0    90133    82910       100     NaN 2018-01-01\n",
              "1   159130   331068        70     NaN 2018-01-01\n",
              "2    80061    26540        69     4.0 2018-01-01\n",
              "3    12811   301895        16     NaN 2018-01-01\n",
              "4     5778   127872       100     NaN 2018-01-01"
            ]
          },
          "metadata": {
            "tags": []
          },
          "execution_count": 7
        }
      ]
    },
    {
      "cell_type": "code",
      "metadata": {
        "colab": {
          "base_uri": "https://localhost:8080/"
        },
        "id": "5LnhyY4dACrJ",
        "outputId": "76422096-7aee-44f1-c40e-c74a505f5f6a"
      },
      "source": [
        "# сопоставим user_id индекс\n",
        "users_inv_mapping = dict(enumerate(df['user_id'].unique()))\n",
        "users_mapping = {v: k for k, v in users_inv_mapping.items()}\n",
        "len(users_mapping)"
      ],
      "execution_count": 8,
      "outputs": [
        {
          "output_type": "execute_result",
          "data": {
            "text/plain": [
              "158325"
            ]
          },
          "metadata": {
            "tags": []
          },
          "execution_count": 8
        }
      ]
    },
    {
      "cell_type": "code",
      "metadata": {
        "colab": {
          "base_uri": "https://localhost:8080/"
        },
        "id": "twncABx6A_hu",
        "outputId": "278ed019-efb7-4e60-ed12-3f48329513ca"
      },
      "source": [
        "# аналогично для item_id\n",
        "items_inv_mapping = dict(enumerate(df['item_id'].unique()))\n",
        "items_mapping = {v: k for k, v in items_inv_mapping.items()}\n",
        "len(items_mapping)"
      ],
      "execution_count": 9,
      "outputs": [
        {
          "output_type": "execute_result",
          "data": {
            "text/plain": [
              "63758"
            ]
          },
          "metadata": {
            "tags": []
          },
          "execution_count": 9
        }
      ]
    },
    {
      "cell_type": "code",
      "metadata": {
        "colab": {
          "base_uri": "https://localhost:8080/"
        },
        "id": "akaxIuoOBYz1",
        "outputId": "9ac5dc26-eb5d-453c-b9f2-f551d581179f"
      },
      "source": [
        "# приведем все названия к нижнему регистру\n",
        "df_items['title'] = df_items['title'].str.lower()\n",
        "# заведем словарь с названиями книг\n",
        "item_titles = pd.Series(df_items['title'].values, index=df_items['id']).to_dict()\n",
        "len(item_titles), item_titles[248031]"
      ],
      "execution_count": 10,
      "outputs": [
        {
          "output_type": "execute_result",
          "data": {
            "text/plain": [
              "(63758, 'ворон-челобитчик')"
            ]
          },
          "metadata": {
            "tags": []
          },
          "execution_count": 10
        }
      ]
    },
    {
      "cell_type": "code",
      "metadata": {
        "colab": {
          "base_uri": "https://localhost:8080/"
        },
        "id": "VLjus59BBcG-",
        "outputId": "d2ed1cd5-5491-45bf-85cd-70b845aabc0a"
      },
      "source": [
        "# посмотрим на кол-во книг с фикс. названием\n",
        "title_items = df_items.groupby('title')['id'].agg(list)\n",
        "title_items"
      ],
      "execution_count": 11,
      "outputs": [
        {
          "output_type": "execute_result",
          "data": {
            "text/plain": [
              "title\n",
              "\"бегущий по лезвию 2049\", «между нами горы\", «борг/макинрой\", «жизнь впереди\"            [277167]\n",
              "\"железная леди\" маргарет тетчер - величайшая женщина хх века                             [203030]\n",
              "\"зверский детектив\" и \"боги манго\", \"мия\", \"заяц на взлетной полосе\", \"страница один\"    [232845]\n",
              "\"рэд 2\", «смурфики 2\", «византия\" и др.                                                  [123247]\n",
              "\"сабля, водка, конь гусарский\". история гусаров                                          [173381]\n",
              "                                                                                           ...   \n",
              "…чума на оба ваши дома!                                                                  [341578]\n",
              "№ 12, или история одного прекрасного юноши                                               [386131]\n",
              "伦巴德人的故事                                                                                  [278588]\n",
              "地球への旅                                                                                    [372584]\n",
              "�baby blues�                                                                             [171497]\n",
              "Name: id, Length: 57992, dtype: object"
            ]
          },
          "metadata": {
            "tags": []
          },
          "execution_count": 11
        }
      ]
    },
    {
      "cell_type": "code",
      "metadata": {
        "colab": {
          "base_uri": "https://localhost:8080/"
        },
        "id": "Xe6tvRK0CGQj",
        "outputId": "229cc4dd-44f2-450c-d675-2869dda786ce"
      },
      "source": [
        "# распределение по длинам названий\n",
        "title_count = title_items.map(len)\n",
        "title_count.value_counts()"
      ],
      "execution_count": 12,
      "outputs": [
        {
          "output_type": "execute_result",
          "data": {
            "text/plain": [
              "1     53608\n",
              "2      3623\n",
              "3       488\n",
              "4       151\n",
              "5        61\n",
              "6        23\n",
              "7        17\n",
              "8         8\n",
              "9         5\n",
              "18        1\n",
              "10        1\n",
              "11        1\n",
              "12        1\n",
              "35        1\n",
              "13        1\n",
              "15        1\n",
              "51        1\n",
              "Name: id, dtype: int64"
            ]
          },
          "metadata": {
            "tags": []
          },
          "execution_count": 12
        }
      ]
    },
    {
      "cell_type": "code",
      "metadata": {
        "colab": {
          "base_uri": "https://localhost:8080/"
        },
        "id": "rot88kL-C2HC",
        "outputId": "84158e72-2878-4a63-d5cb-eca9f90fdbe8"
      },
      "source": [
        "title_items[title_count > 1].tail()"
      ],
      "execution_count": 13,
      "outputs": [
        {
          "output_type": "execute_result",
          "data": {
            "text/plain": [
              "title\n",
              "яр                           [108212, 252893]\n",
              "ярмарка тщеславия    [323949, 351537, 324231]\n",
              "ярослав мудрый                [358342, 83942]\n",
              "ярость тьмы                   [324469, 74554]\n",
              "ящик пандоры                  [93562, 164956]\n",
              "Name: id, dtype: object"
            ]
          },
          "metadata": {
            "tags": []
          },
          "execution_count": 13
        }
      ]
    },
    {
      "cell_type": "code",
      "metadata": {
        "colab": {
          "base_uri": "https://localhost:8080/",
          "height": 80
        },
        "id": "-Un_SmeOC63w",
        "outputId": "097e5364-f4e8-4fda-efb1-854047c31f5c"
      },
      "source": [
        "df_items[df_items['title'] == '451 градус по фаренгейту']"
      ],
      "execution_count": 14,
      "outputs": [
        {
          "output_type": "execute_result",
          "data": {
            "text/html": [
              "<div>\n",
              "<style scoped>\n",
              "    .dataframe tbody tr th:only-of-type {\n",
              "        vertical-align: middle;\n",
              "    }\n",
              "\n",
              "    .dataframe tbody tr th {\n",
              "        vertical-align: top;\n",
              "    }\n",
              "\n",
              "    .dataframe thead th {\n",
              "        text-align: right;\n",
              "    }\n",
              "</style>\n",
              "<table border=\"1\" class=\"dataframe\">\n",
              "  <thead>\n",
              "    <tr style=\"text-align: right;\">\n",
              "      <th></th>\n",
              "      <th>id</th>\n",
              "      <th>title</th>\n",
              "      <th>genres</th>\n",
              "      <th>authors</th>\n",
              "      <th>year</th>\n",
              "    </tr>\n",
              "  </thead>\n",
              "  <tbody>\n",
              "    <tr>\n",
              "      <th>49284</th>\n",
              "      <td>99550</td>\n",
              "      <td>451 градус по фаренгейту</td>\n",
              "      <td>Социальная фантастика,Зарубежная фантастика,Научная фантастика,Классика фантастики</td>\n",
              "      <td>Рэй Брэдбери</td>\n",
              "      <td>1951, 1953, 1967</td>\n",
              "    </tr>\n",
              "  </tbody>\n",
              "</table>\n",
              "</div>"
            ],
            "text/plain": [
              "          id                     title  ...       authors              year\n",
              "49284  99550  451 градус по фаренгейту  ...  Рэй Брэдбери  1951, 1953, 1967\n",
              "\n",
              "[1 rows x 5 columns]"
            ]
          },
          "metadata": {
            "tags": []
          },
          "execution_count": 14
        }
      ]
    },
    {
      "cell_type": "code",
      "metadata": {
        "colab": {
          "base_uri": "https://localhost:8080/",
          "height": 142
        },
        "id": "ToWUlBp1DT3d",
        "outputId": "5b2b203b-5cac-4fd3-8e9d-57f5a416eab4"
      },
      "source": [
        "df['rating'] = np.array(df['rating'].values, dtype=np.float32)\n",
        "\n",
        "df.loc[df['item_id'].isin([44681, 162716])].groupby('item_id').agg({\n",
        "    'progress': np.size,\n",
        "    'rating': ['mean'],\n",
        "    'start_date': ['min', 'max'],\n",
        "})"
      ],
      "execution_count": 15,
      "outputs": [
        {
          "output_type": "execute_result",
          "data": {
            "text/html": [
              "<div>\n",
              "<style scoped>\n",
              "    .dataframe tbody tr th:only-of-type {\n",
              "        vertical-align: middle;\n",
              "    }\n",
              "\n",
              "    .dataframe tbody tr th {\n",
              "        vertical-align: top;\n",
              "    }\n",
              "\n",
              "    .dataframe thead tr th {\n",
              "        text-align: left;\n",
              "    }\n",
              "\n",
              "    .dataframe thead tr:last-of-type th {\n",
              "        text-align: right;\n",
              "    }\n",
              "</style>\n",
              "<table border=\"1\" class=\"dataframe\">\n",
              "  <thead>\n",
              "    <tr>\n",
              "      <th></th>\n",
              "      <th>progress</th>\n",
              "      <th>rating</th>\n",
              "      <th colspan=\"2\" halign=\"left\">start_date</th>\n",
              "    </tr>\n",
              "    <tr>\n",
              "      <th></th>\n",
              "      <th>size</th>\n",
              "      <th>mean</th>\n",
              "      <th>min</th>\n",
              "      <th>max</th>\n",
              "    </tr>\n",
              "    <tr>\n",
              "      <th>item_id</th>\n",
              "      <th></th>\n",
              "      <th></th>\n",
              "      <th></th>\n",
              "      <th></th>\n",
              "    </tr>\n",
              "  </thead>\n",
              "  <tbody>\n",
              "    <tr>\n",
              "      <th>162716</th>\n",
              "      <td>11</td>\n",
              "      <td>4.666667</td>\n",
              "      <td>2018-01-16</td>\n",
              "      <td>2019-08-06</td>\n",
              "    </tr>\n",
              "  </tbody>\n",
              "</table>\n",
              "</div>"
            ],
            "text/plain": [
              "        progress    rating start_date           \n",
              "            size      mean        min        max\n",
              "item_id                                         \n",
              "162716        11  4.666667 2018-01-16 2019-08-06"
            ]
          },
          "metadata": {
            "tags": []
          },
          "execution_count": 15
        }
      ]
    },
    {
      "cell_type": "markdown",
      "metadata": {
        "id": "ya96-p4LDtYi"
      },
      "source": [
        "#Popularity recom"
      ]
    },
    {
      "cell_type": "code",
      "metadata": {
        "id": "VY94X8vgDiPs"
      },
      "source": [
        "class PopularRecommender():\n",
        "    def __init__(self, max_K=100, days=30, item_column='item_id', dt_column='date'):\n",
        "        self.max_K = max_K\n",
        "        self.days = days\n",
        "        self.item_column = item_column\n",
        "        self.dt_column = dt_column\n",
        "        self.recommendations = []\n",
        "        \n",
        "    def fit(self, df, ):\n",
        "        min_date = df[self.dt_column].max().normalize() - pd.DateOffset(days=self.days)\n",
        "        self.recommendations = df.loc[df[self.dt_column] > min_date, self.item_column].value_counts().head(self.max_K).index.values\n",
        "    \n",
        "    def recommend(self, users=None, N=10):\n",
        "        recs = self.recommendations[:N].astype(int)\n",
        "        if users is None:\n",
        "            return recs\n",
        "        else:\n",
        "            return list(islice(cycle([recs]), len(users)))"
      ],
      "execution_count": 39,
      "outputs": []
    },
    {
      "cell_type": "code",
      "metadata": {
        "colab": {
          "base_uri": "https://localhost:8080/"
        },
        "id": "qU1Rg2uhEXEI",
        "outputId": "69fd5edd-b985-46b2-a39f-bf47ab96abab"
      },
      "source": [
        "all_days = (df['start_date'].unique().max() - df['start_date'].unique().min()).astype('timedelta64[D]').astype('int')\n",
        "all_days"
      ],
      "execution_count": 40,
      "outputs": [
        {
          "output_type": "execute_result",
          "data": {
            "text/plain": [
              "729"
            ]
          },
          "metadata": {
            "tags": []
          },
          "execution_count": 40
        }
      ]
    },
    {
      "cell_type": "code",
      "metadata": {
        "colab": {
          "base_uri": "https://localhost:8080/"
        },
        "id": "OGpyaJCCEm_5",
        "outputId": "3c488449-9635-471d-fd26-c6705247a64c"
      },
      "source": [
        "sub = pd.read_csv('/content/drive/MyDrive/Colab Notebooks/MTS_teta/Kaggle_recomend_sys/sample_submission.csv')\n",
        "sub.columns = ['user_id', 'Predicted']\n",
        "train_df = sub['user_id'].to_frame().merge(df, on='user_id', how='left')\n",
        "sub.columns = ['Id', 'Predicted']\n",
        "\n",
        "pop_model = PopularRecommender(days=729, dt_column='start_date')\n",
        "pop_model.fit(train_df)\n",
        "\n",
        "top10_recs = pop_model.recommend()\n",
        "top10_recs"
      ],
      "execution_count": 41,
      "outputs": [
        {
          "output_type": "execute_result",
          "data": {
            "text/plain": [
              "array([ 80576,  37493,  68956,  75731, 270299, 364794, 330824, 178529,\n",
              "       104445, 211600])"
            ]
          },
          "metadata": {
            "tags": []
          },
          "execution_count": 41
        }
      ]
    },
    {
      "cell_type": "code",
      "metadata": {
        "colab": {
          "base_uri": "https://localhost:8080/"
        },
        "id": "rIOCk2JYG8JQ",
        "outputId": "9781f32a-475d-4f9b-ec20-b5245dc5e65a"
      },
      "source": [
        "list(map(item_titles.get, top10_recs))"
      ],
      "execution_count": 42,
      "outputs": [
        {
          "output_type": "execute_result",
          "data": {
            "text/plain": [
              "['сила подсознания, или как изменить жизнь за 4 недели',\n",
              " 'снеговик',\n",
              " 'невеста смерти',\n",
              " 'земное притяжение',\n",
              " 'цена вопроса. том 1',\n",
              " 'долина драконов. магическая практика',\n",
              " 'струны волшебства. книга первая. страшные сказки закрытого королевства',\n",
              " 'яблоки из сада шлицбутера',\n",
              " 'чудовищное предложение',\n",
              " 'магическая сделка']"
            ]
          },
          "metadata": {
            "tags": []
          },
          "execution_count": 42
        }
      ]
    },
    {
      "cell_type": "code",
      "metadata": {
        "colab": {
          "base_uri": "https://localhost:8080/",
          "height": 204
        },
        "id": "-mfyzQ5WG8fI",
        "outputId": "3c4840f9-cca9-4e18-c30f-67b648c4618d"
      },
      "source": [
        "pop_recs = pd.DataFrame({'user_id': train_df['user_id'].unique()})\n",
        "top_N = 10\n",
        "pop_recs['item_id'] = pop_model.recommend(pop_recs['user_id'], N=top_N)\n",
        "pop_recs.head()"
      ],
      "execution_count": 43,
      "outputs": [
        {
          "output_type": "execute_result",
          "data": {
            "text/html": [
              "<div>\n",
              "<style scoped>\n",
              "    .dataframe tbody tr th:only-of-type {\n",
              "        vertical-align: middle;\n",
              "    }\n",
              "\n",
              "    .dataframe tbody tr th {\n",
              "        vertical-align: top;\n",
              "    }\n",
              "\n",
              "    .dataframe thead th {\n",
              "        text-align: right;\n",
              "    }\n",
              "</style>\n",
              "<table border=\"1\" class=\"dataframe\">\n",
              "  <thead>\n",
              "    <tr style=\"text-align: right;\">\n",
              "      <th></th>\n",
              "      <th>user_id</th>\n",
              "      <th>item_id</th>\n",
              "    </tr>\n",
              "  </thead>\n",
              "  <tbody>\n",
              "    <tr>\n",
              "      <th>0</th>\n",
              "      <td>10001</td>\n",
              "      <td>[80576, 37493, 68956, 75731, 270299, 364794, 330824, 178529, 104445, 211600]</td>\n",
              "    </tr>\n",
              "    <tr>\n",
              "      <th>1</th>\n",
              "      <td>10002</td>\n",
              "      <td>[80576, 37493, 68956, 75731, 270299, 364794, 330824, 178529, 104445, 211600]</td>\n",
              "    </tr>\n",
              "    <tr>\n",
              "      <th>2</th>\n",
              "      <td>100152</td>\n",
              "      <td>[80576, 37493, 68956, 75731, 270299, 364794, 330824, 178529, 104445, 211600]</td>\n",
              "    </tr>\n",
              "    <tr>\n",
              "      <th>3</th>\n",
              "      <td>100197</td>\n",
              "      <td>[80576, 37493, 68956, 75731, 270299, 364794, 330824, 178529, 104445, 211600]</td>\n",
              "    </tr>\n",
              "    <tr>\n",
              "      <th>4</th>\n",
              "      <td>100284</td>\n",
              "      <td>[80576, 37493, 68956, 75731, 270299, 364794, 330824, 178529, 104445, 211600]</td>\n",
              "    </tr>\n",
              "  </tbody>\n",
              "</table>\n",
              "</div>"
            ],
            "text/plain": [
              "   user_id                                                                       item_id\n",
              "0    10001  [80576, 37493, 68956, 75731, 270299, 364794, 330824, 178529, 104445, 211600]\n",
              "1    10002  [80576, 37493, 68956, 75731, 270299, 364794, 330824, 178529, 104445, 211600]\n",
              "2   100152  [80576, 37493, 68956, 75731, 270299, 364794, 330824, 178529, 104445, 211600]\n",
              "3   100197  [80576, 37493, 68956, 75731, 270299, 364794, 330824, 178529, 104445, 211600]\n",
              "4   100284  [80576, 37493, 68956, 75731, 270299, 364794, 330824, 178529, 104445, 211600]"
            ]
          },
          "metadata": {
            "tags": []
          },
          "execution_count": 43
        }
      ]
    },
    {
      "cell_type": "code",
      "metadata": {
        "id": "-Pm25cBZjuoK"
      },
      "source": [
        "def dump_recs_to_csv(recs_df, fp):\n",
        "    pred = []\n",
        "    ids = []\n",
        "    for id, recomm in tqdm(recs_df.groupby('user_id')):\n",
        "        ids += [id]\n",
        "        pred += [' '.join(map(str, recomm['item_id'].values[0]))]\n",
        "\n",
        "    my_pop_submission = pd.DataFrame({'Id': ids,\n",
        "                                      'Predicted': pred})\n",
        "    sub = pd.read_csv('/content/drive/MyDrive/Colab Notebooks/MTS_teta/Kaggle_recomend_sys/sample_submission.csv')\n",
        "    my_pop_submission = sub['Id'].to_frame().merge(my_pop_submission,\n",
        "                                                        on='Id', how='left')\n",
        "    my_pop_submission.to_csv(fp, index = False)\n",
        "\n",
        "    return my_pop_submission"
      ],
      "execution_count": 92,
      "outputs": []
    },
    {
      "cell_type": "code",
      "metadata": {
        "colab": {
          "base_uri": "https://localhost:8080/",
          "height": 253,
          "referenced_widgets": [
            "bedca107ef6b4047b78a1817ef315904",
            "5c3b89d8dba24c8db2584cbed1b11e5d",
            "7832ac5b4bbb4f52ab8e0ee8555765f8",
            "606307c021144a1982308a72df810f4c",
            "8b06a71abff04fe4895700f67a245441",
            "7402a34015b54907b1a4b6abba9675df",
            "a8e1adab79344e88a6953ab9150575c2",
            "d716f9889202478a8506cd656123e199"
          ]
        },
        "id": "noQtB5-OKred",
        "outputId": "b8e6a95d-b71a-4159-bf79-bf8e86f551a3"
      },
      "source": [
        "my_pop_submission = dump_recs_to_csv(pop_recs, \n",
        "                                     '/content/drive/MyDrive/Colab Notebooks/MTS_teta/Kaggle_recomend_sys/submissions/pop_submission')\n",
        "my_pop_submission.head()"
      ],
      "execution_count": 93,
      "outputs": [
        {
          "output_type": "display_data",
          "data": {
            "application/vnd.jupyter.widget-view+json": {
              "model_id": "bedca107ef6b4047b78a1817ef315904",
              "version_minor": 0,
              "version_major": 2
            },
            "text/plain": [
              "HBox(children=(FloatProgress(value=0.0, max=3074.0), HTML(value='')))"
            ]
          },
          "metadata": {
            "tags": []
          }
        },
        {
          "output_type": "stream",
          "text": [
            "\n"
          ],
          "name": "stdout"
        },
        {
          "output_type": "execute_result",
          "data": {
            "text/html": [
              "<div>\n",
              "<style scoped>\n",
              "    .dataframe tbody tr th:only-of-type {\n",
              "        vertical-align: middle;\n",
              "    }\n",
              "\n",
              "    .dataframe tbody tr th {\n",
              "        vertical-align: top;\n",
              "    }\n",
              "\n",
              "    .dataframe thead th {\n",
              "        text-align: right;\n",
              "    }\n",
              "</style>\n",
              "<table border=\"1\" class=\"dataframe\">\n",
              "  <thead>\n",
              "    <tr style=\"text-align: right;\">\n",
              "      <th></th>\n",
              "      <th>Id</th>\n",
              "      <th>Predicted</th>\n",
              "    </tr>\n",
              "  </thead>\n",
              "  <tbody>\n",
              "    <tr>\n",
              "      <th>0</th>\n",
              "      <td>10001</td>\n",
              "      <td>80576 37493 68956 75731 270299 364794 330824 178529 104445 211600</td>\n",
              "    </tr>\n",
              "    <tr>\n",
              "      <th>1</th>\n",
              "      <td>10002</td>\n",
              "      <td>80576 37493 68956 75731 270299 364794 330824 178529 104445 211600</td>\n",
              "    </tr>\n",
              "    <tr>\n",
              "      <th>2</th>\n",
              "      <td>100152</td>\n",
              "      <td>80576 37493 68956 75731 270299 364794 330824 178529 104445 211600</td>\n",
              "    </tr>\n",
              "    <tr>\n",
              "      <th>3</th>\n",
              "      <td>100197</td>\n",
              "      <td>80576 37493 68956 75731 270299 364794 330824 178529 104445 211600</td>\n",
              "    </tr>\n",
              "    <tr>\n",
              "      <th>4</th>\n",
              "      <td>100284</td>\n",
              "      <td>80576 37493 68956 75731 270299 364794 330824 178529 104445 211600</td>\n",
              "    </tr>\n",
              "  </tbody>\n",
              "</table>\n",
              "</div>"
            ],
            "text/plain": [
              "       Id                                                          Predicted\n",
              "0   10001  80576 37493 68956 75731 270299 364794 330824 178529 104445 211600\n",
              "1   10002  80576 37493 68956 75731 270299 364794 330824 178529 104445 211600\n",
              "2  100152  80576 37493 68956 75731 270299 364794 330824 178529 104445 211600\n",
              "3  100197  80576 37493 68956 75731 270299 364794 330824 178529 104445 211600\n",
              "4  100284  80576 37493 68956 75731 270299 364794 330824 178529 104445 211600"
            ]
          },
          "metadata": {
            "tags": []
          },
          "execution_count": 93
        }
      ]
    },
    {
      "cell_type": "code",
      "metadata": {
        "id": "gw8n8zohHr0R"
      },
      "source": [
        "def get_map_at_N(recs_df, train_df, top_N=10, print_met=False):\n",
        "    # переводим строку рекомменлдаций для каждого пользователя в вектор (Series)\n",
        "    test_recs = recs_df.explode('item_id')\n",
        "    # сопоставляем топ-рекоммендациям наш рейтинг \n",
        "    test_recs['rank'] = test_recs.groupby('user_id').cumcount() + 1\n",
        "    # join(им) df, на котором обучался, с нашими рекоммендациями (тут сразу получаем какие книги рекоммендовали правильно,\n",
        "    #                                                             какие не порекоммендовали -- Nan (т.к. left join))\n",
        "    test_recs = train_df.set_index(['user_id', 'item_id']).join(test_recs.set_index(['user_id', 'item_id']))\n",
        "    # отсортируем для каждого user(а) и item(а)\n",
        "    test_recs = test_recs.sort_values(by=['user_id', 'rating'])\n",
        "\n",
        "    # найдем сколько всего у данного user(а) книг\n",
        "    test_recs['users_item_count'] = tqdm(test_recs.groupby(level='user_id', sort=False)['rank'].transform(np.size))\n",
        "    # находим reciprocal_rank\n",
        "    test_recs['reciprocal_rank'] = 1 / test_recs['rank']\n",
        "    test_recs['reciprocal_rank'] = test_recs['reciprocal_rank'].fillna(0)\n",
        "    # находим (Precision at rank) для каждого пользовтеля\n",
        "    test_recs['cumulative_rank'] = test_recs.groupby(level='user_id').cumcount() + 1\n",
        "    test_recs['cumulative_rank'] = test_recs['cumulative_rank'] / test_recs['rank']\n",
        "\n",
        "    # СЧИТАЕМ MEAN AVARAGE PRECISION at 10\n",
        "    metrics = {f'map@{top_N}': [], f'MRR': []}\n",
        "    # находим кол-во всех пользователей в выборке\n",
        "    users_count = test_recs.index.get_level_values('user_id').nunique()\n",
        "    for k in range(1, top_N + 1):\n",
        "        hit_k = f'hit@{k}'\n",
        "        test_recs[hit_k] = test_recs['rank'] <= k\n",
        "        if print_met:\n",
        "            print(f'Precision@{k} = {(test_recs[hit_k] / k).sum() / users_count:.4f}')\n",
        "            print(f\"Recall@{k} = {(test_recs[hit_k] / test_recs['users_item_count']).sum() / users_count:.4f}\")\n",
        "    # усредняем Avarage (Precision at rank)\n",
        "    mapN = (test_recs[\"cumulative_rank\"] / test_recs[\"users_item_count\"]).sum() / users_count\n",
        "    metrics[f'map@{top_N}'] += [mapN]\n",
        "    # \n",
        "    mrr = test_recs.groupby(level='user_id')['reciprocal_rank'].max().mean()\n",
        "    metrics['MRR'] += [mrr]\n",
        "\n",
        "    if print_met:\n",
        "        print(f\"MAP@{top_N} = {mapN}\")\n",
        "        print(f\"MRR = {mrr}\")\n",
        "\n",
        "    return metrics"
      ],
      "execution_count": 74,
      "outputs": []
    },
    {
      "cell_type": "code",
      "metadata": {
        "id": "masTZ5MOHFBL",
        "colab": {
          "base_uri": "https://localhost:8080/",
          "height": 83,
          "referenced_widgets": [
            "bbe7883d277e4ed691bf75ac8932260b",
            "b61b9d2e877242738edcb5b950f0b858",
            "f87328b6095149b48ac5c755aeaae331",
            "694afca8b3004bdf9a884a0a700c6082",
            "134ed10a58f74f739324bb61b24319aa",
            "48f22e30b1454c4dba424314ee007a78",
            "271ce67a352449f896e6a1a011d07b1c",
            "f3f725dade13403b8303a2f6c99100c3"
          ]
        },
        "outputId": "481203e4-0cfe-4d22-d7c1-3e5665acbe71"
      },
      "source": [
        "metrics = get_map_at_N(pop_recs, train_df,)\n",
        "print(metrics)"
      ],
      "execution_count": 75,
      "outputs": [
        {
          "output_type": "display_data",
          "data": {
            "application/vnd.jupyter.widget-view+json": {
              "model_id": "bbe7883d277e4ed691bf75ac8932260b",
              "version_minor": 0,
              "version_major": 2
            },
            "text/plain": [
              "HBox(children=(FloatProgress(value=0.0, max=91635.0), HTML(value='')))"
            ]
          },
          "metadata": {
            "tags": []
          }
        },
        {
          "output_type": "stream",
          "text": [
            "\n",
            "{'map@10': [0.03727178267234922], 'MRR': [0.061716418295793704]}\n"
          ],
          "name": "stdout"
        }
      ]
    },
    {
      "cell_type": "code",
      "metadata": {
        "id": "X6ZsdnkgOnJ2"
      },
      "source": [
        "pickle.dump(PopularRecommender, \n",
        "            open('/content/drive/MyDrive/Colab Notebooks/MTS_teta/Kaggle_recomend_sys/solutions_metrics/PopularRecommender.pkl', 'bw'))"
      ],
      "execution_count": 94,
      "outputs": []
    }
  ]
}