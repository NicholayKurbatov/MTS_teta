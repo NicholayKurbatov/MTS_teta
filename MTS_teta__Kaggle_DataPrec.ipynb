{
  "nbformat": 4,
  "nbformat_minor": 0,
  "metadata": {
    "colab": {
      "name": "MTS_teta__Kaggle_DataPrec.ipynb",
      "provenance": [],
      "mount_file_id": "13OR6TJ5ud1WnV9QLSKeIzeeaF8nU3rTC",
      "authorship_tag": "ABX9TyPTDbUVCMsDfQHtcWVhZENk"
    },
    "kernelspec": {
      "name": "python3",
      "display_name": "Python 3"
    },
    "language_info": {
      "name": "python"
    }
  },
  "cells": [
    {
      "cell_type": "markdown",
      "metadata": {
        "id": "QoN5-Ph6jPnI"
      },
      "source": [
        "#Imports"
      ]
    },
    {
      "cell_type": "code",
      "metadata": {
        "id": "SQLg3Nx9jRAC"
      },
      "source": [
        "import numpy as np \n",
        "import pandas as pd \n",
        "pd.set_option('display.max_colwidth', None)\n",
        "\n",
        "\n",
        "import scipy.sparse as sp\n",
        "from itertools import islice, cycle\n",
        "from more_itertools import pairwise\n",
        "from tqdm.auto import tqdm"
      ],
      "execution_count": null,
      "outputs": []
    },
    {
      "cell_type": "markdown",
      "metadata": {
        "id": "iw9gI0hpjTUA"
      },
      "source": [
        "#Load data/preprocessing"
      ]
    },
    {
      "cell_type": "code",
      "metadata": {
        "id": "hNopLUeQjjow"
      },
      "source": [
        "df = pd.read_csv('/content/drive/MyDrive/Colab Notebooks/MTS_teta/Kaggle_recomend_sys/interactions.csv')\n",
        "users = pd.read_csv('/content/drive/MyDrive/Colab Notebooks/MTS_teta/Kaggle_recomend_sys/users.csv')\n",
        "items = pd.read_csv('/content/drive/MyDrive/Colab Notebooks/MTS_teta/Kaggle_recomend_sys/items.csv')"
      ],
      "execution_count": null,
      "outputs": []
    },
    {
      "cell_type": "markdown",
      "metadata": {
        "id": "jis-xl_bweeH"
      },
      "source": [
        "##Interactions\n",
        "\n",
        "----"
      ]
    },
    {
      "cell_type": "code",
      "metadata": {
        "colab": {
          "base_uri": "https://localhost:8080/"
        },
        "id": "vDvp326yrLR8",
        "outputId": "66f898a3-c61c-4316-8400-5e2a8c75d38f"
      },
      "source": [
        "df.info()"
      ],
      "execution_count": null,
      "outputs": [
        {
          "output_type": "stream",
          "text": [
            "<class 'pandas.core.frame.DataFrame'>\n",
            "RangeIndex: 1562617 entries, 0 to 1562616\n",
            "Data columns (total 5 columns):\n",
            " #   Column      Non-Null Count    Dtype  \n",
            "---  ------      --------------    -----  \n",
            " 0   user_id     1562617 non-null  int64  \n",
            " 1   item_id     1562617 non-null  int64  \n",
            " 2   progress    1562617 non-null  int64  \n",
            " 3   rating      323571 non-null   float64\n",
            " 4   start_date  1562617 non-null  object \n",
            "dtypes: float64(1), int64(3), object(1)\n",
            "memory usage: 59.6+ MB\n"
          ],
          "name": "stdout"
        }
      ]
    },
    {
      "cell_type": "code",
      "metadata": {
        "id": "MoidNMbZqMPy"
      },
      "source": [
        "df['start_date'] = pd.to_datetime(df['start_date'])\n",
        "# find duplicates\n",
        "duplicates = df.duplicated(subset=['user_id', 'item_id'], keep=False)\n",
        "df_duplicates = df[duplicates].sort_values(by=['user_id', 'start_date'])\n",
        "# stay only unique \n",
        "df = df[~duplicates]"
      ],
      "execution_count": null,
      "outputs": []
    },
    {
      "cell_type": "code",
      "metadata": {
        "id": "wqV3n_7PqxUh"
      },
      "source": [
        "# add info with max progress/rating and min start_date in duplicates samples\n",
        "df_duplicates = df_duplicates.groupby(['user_id', 'item_id']).agg({\n",
        "    'progress': 'max',\n",
        "    'rating': 'max',\n",
        "    'start_date': 'min'\n",
        "})\n",
        "df = df.append(df_duplicates.reset_index(), ignore_index=True)"
      ],
      "execution_count": null,
      "outputs": []
    },
    {
      "cell_type": "code",
      "metadata": {
        "id": "XWWbaqpLrEgn"
      },
      "source": [
        "df['progress'] = df['progress'].astype(np.int8)\n",
        "df['rating'] = df['rating'].astype(pd.SparseDtype(np.float32, np.nan))"
      ],
      "execution_count": null,
      "outputs": []
    },
    {
      "cell_type": "code",
      "metadata": {
        "colab": {
          "base_uri": "https://localhost:8080/"
        },
        "id": "zcm0pL83rFc4",
        "outputId": "e6ca6506-4406-4505-de42-368acd266f58"
      },
      "source": [
        "df.info()"
      ],
      "execution_count": null,
      "outputs": [
        {
          "output_type": "stream",
          "text": [
            "<class 'pandas.core.frame.DataFrame'>\n",
            "RangeIndex: 1562505 entries, 0 to 1562504\n",
            "Data columns (total 5 columns):\n",
            " #   Column      Non-Null Count    Dtype               \n",
            "---  ------      --------------    -----               \n",
            " 0   user_id     1562505 non-null  int64               \n",
            " 1   item_id     1562505 non-null  int64               \n",
            " 2   progress    1562505 non-null  int8                \n",
            " 3   rating      323563 non-null   Sparse[float32, nan]\n",
            " 4   start_date  1562505 non-null  datetime64[ns]      \n",
            "dtypes: Sparse[float32, nan](1), datetime64[ns](1), int64(2), int8(1)\n",
            "memory usage: 39.7 MB\n"
          ],
          "name": "stdout"
        }
      ]
    },
    {
      "cell_type": "code",
      "metadata": {
        "id": "V3iVvWGIwRGi"
      },
      "source": [
        "df.to_pickle('/content/drive/MyDrive/Colab Notebooks/MTS_teta/Kaggle_recomend_sys/interactions_preprocessed.pickle')"
      ],
      "execution_count": null,
      "outputs": []
    },
    {
      "cell_type": "markdown",
      "metadata": {
        "id": "KsfMUS4MwmaF"
      },
      "source": [
        "##Items\n",
        "\n",
        "----"
      ]
    },
    {
      "cell_type": "code",
      "metadata": {
        "colab": {
          "base_uri": "https://localhost:8080/"
        },
        "id": "1MjVvHRlwoc-",
        "outputId": "b261f054-33fe-4f00-f4d7-fa107477237b"
      },
      "source": [
        "users.head()"
      ],
      "execution_count": null,
      "outputs": [
        {
          "output_type": "execute_result",
          "data": {
            "text/html": [
              "<div>\n",
              "<style scoped>\n",
              "    .dataframe tbody tr th:only-of-type {\n",
              "        vertical-align: middle;\n",
              "    }\n",
              "\n",
              "    .dataframe tbody tr th {\n",
              "        vertical-align: top;\n",
              "    }\n",
              "\n",
              "    .dataframe thead th {\n",
              "        text-align: right;\n",
              "    }\n",
              "</style>\n",
              "<table border=\"1\" class=\"dataframe\">\n",
              "  <thead>\n",
              "    <tr style=\"text-align: right;\">\n",
              "      <th></th>\n",
              "      <th>user_id</th>\n",
              "      <th>age</th>\n",
              "      <th>sex</th>\n",
              "    </tr>\n",
              "  </thead>\n",
              "  <tbody>\n",
              "    <tr>\n",
              "      <th>0</th>\n",
              "      <td>0</td>\n",
              "      <td>45_54</td>\n",
              "      <td>1.0</td>\n",
              "    </tr>\n",
              "    <tr>\n",
              "      <th>1</th>\n",
              "      <td>1</td>\n",
              "      <td>25_34</td>\n",
              "      <td>0.0</td>\n",
              "    </tr>\n",
              "    <tr>\n",
              "      <th>2</th>\n",
              "      <td>2</td>\n",
              "      <td>45_54</td>\n",
              "      <td>0.0</td>\n",
              "    </tr>\n",
              "    <tr>\n",
              "      <th>3</th>\n",
              "      <td>3</td>\n",
              "      <td>65_inf</td>\n",
              "      <td>0.0</td>\n",
              "    </tr>\n",
              "    <tr>\n",
              "      <th>4</th>\n",
              "      <td>4</td>\n",
              "      <td>18_24</td>\n",
              "      <td>0.0</td>\n",
              "    </tr>\n",
              "  </tbody>\n",
              "</table>\n",
              "</div>"
            ],
            "text/plain": [
              "   user_id     age  sex\n",
              "0        0   45_54  1.0\n",
              "1        1   25_34  0.0\n",
              "2        2   45_54  0.0\n",
              "3        3  65_inf  0.0\n",
              "4        4   18_24  0.0"
            ]
          },
          "metadata": {
            "tags": []
          },
          "execution_count": 9
        }
      ]
    },
    {
      "cell_type": "code",
      "metadata": {
        "colab": {
          "base_uri": "https://localhost:8080/"
        },
        "id": "llqJlgZgw0qS",
        "outputId": "4bdedf18-56b5-442f-f13f-69e1910ea0f7"
      },
      "source": [
        "users.info()"
      ],
      "execution_count": null,
      "outputs": [
        {
          "output_type": "stream",
          "text": [
            "<class 'pandas.core.frame.DataFrame'>\n",
            "RangeIndex: 137254 entries, 0 to 137253\n",
            "Data columns (total 3 columns):\n",
            " #   Column   Non-Null Count   Dtype  \n",
            "---  ------   --------------   -----  \n",
            " 0   user_id  137254 non-null  int64  \n",
            " 1   age      137244 non-null  object \n",
            " 2   sex      135640 non-null  float64\n",
            "dtypes: float64(1), int64(1), object(1)\n",
            "memory usage: 3.1+ MB\n"
          ],
          "name": "stdout"
        }
      ]
    },
    {
      "cell_type": "code",
      "metadata": {
        "colab": {
          "base_uri": "https://localhost:8080/"
        },
        "id": "Y9XqTRPSw4sY",
        "outputId": "2a2bfc2b-407d-4f70-99de-96dabd7e9225"
      },
      "source": [
        "users.nunique()"
      ],
      "execution_count": null,
      "outputs": [
        {
          "output_type": "execute_result",
          "data": {
            "text/plain": [
              "user_id    137254\n",
              "age             6\n",
              "sex             2\n",
              "dtype: int64"
            ]
          },
          "metadata": {
            "tags": []
          },
          "execution_count": 11
        }
      ]
    },
    {
      "cell_type": "code",
      "metadata": {
        "id": "69dDlLavw4cu"
      },
      "source": [
        "users['age'] = users['age'].astype('category')\n",
        "users['sex'] = users['sex'].astype(pd.SparseDtype(np.float32, np.nan))"
      ],
      "execution_count": null,
      "outputs": []
    },
    {
      "cell_type": "code",
      "metadata": {
        "colab": {
          "base_uri": "https://localhost:8080/"
        },
        "id": "ZsCzr6xLxIAc",
        "outputId": "b810c3a7-cfe1-48ee-e45a-5604695ab445"
      },
      "source": [
        "interaction_users = df['user_id'].unique()\n",
        "\n",
        "common_users = len(np.intersect1d(interaction_users, users['user_id']))\n",
        "users_only_in_interaction = len(np.setdiff1d(interaction_users, users['user_id']))\n",
        "users_only_features = len(np.setdiff1d(users['user_id'], interaction_users))\n",
        "total_users = common_users + users_only_in_interaction + users_only_features\n",
        "print(f'Кол-во пользователей - {total_users}')\n",
        "print(f'Кол-во пользователей c взаимодействиями и фичами - {common_users} ({common_users / total_users * 100:.2f}%)')\n",
        "print(f'Кол-во пользователей только c взаимодействиями - {users_only_in_interaction} ({users_only_in_interaction / total_users * 100:.2f}%)')\n",
        "print(f'Кол-во пользователей только c фичами - {users_only_features} ({users_only_features / total_users * 100:.2f}%)')"
      ],
      "execution_count": null,
      "outputs": [
        {
          "output_type": "stream",
          "text": [
            "Кол-во пользователей - 164771\n",
            "Кол-во пользователей c взаимодействиями и фичами - 130808 (79.39%)\n",
            "Кол-во пользователей только c взаимодействиями - 27517 (16.70%)\n",
            "Кол-во пользователей только c фичами - 6446 (3.91%)\n"
          ],
          "name": "stdout"
        }
      ]
    },
    {
      "cell_type": "code",
      "metadata": {
        "id": "althK0IkxbY0"
      },
      "source": [
        "users.to_pickle('/content/drive/MyDrive/Colab Notebooks/MTS_teta/Kaggle_recomend_sys/users_preprocessed.pickle')"
      ],
      "execution_count": null,
      "outputs": []
    },
    {
      "cell_type": "markdown",
      "metadata": {
        "id": "R2Od8QStwpAp"
      },
      "source": [
        "##Users\n",
        "\n",
        "----"
      ]
    },
    {
      "cell_type": "code",
      "metadata": {
        "colab": {
          "base_uri": "https://localhost:8080/",
          "height": 204
        },
        "id": "QkIslbbLwpnj",
        "outputId": "89825361-98c5-4031-b49f-ee164b15f2e1"
      },
      "source": [
        "items.head()"
      ],
      "execution_count": null,
      "outputs": [
        {
          "output_type": "execute_result",
          "data": {
            "text/html": [
              "<div>\n",
              "<style scoped>\n",
              "    .dataframe tbody tr th:only-of-type {\n",
              "        vertical-align: middle;\n",
              "    }\n",
              "\n",
              "    .dataframe tbody tr th {\n",
              "        vertical-align: top;\n",
              "    }\n",
              "\n",
              "    .dataframe thead th {\n",
              "        text-align: right;\n",
              "    }\n",
              "</style>\n",
              "<table border=\"1\" class=\"dataframe\">\n",
              "  <thead>\n",
              "    <tr style=\"text-align: right;\">\n",
              "      <th></th>\n",
              "      <th>id</th>\n",
              "      <th>title</th>\n",
              "      <th>genres</th>\n",
              "      <th>authors</th>\n",
              "      <th>year</th>\n",
              "    </tr>\n",
              "  </thead>\n",
              "  <tbody>\n",
              "    <tr>\n",
              "      <th>0</th>\n",
              "      <td>248031</td>\n",
              "      <td>Ворон-челобитчик</td>\n",
              "      <td>Зарубежные детские книги,Сказки,Зарубежная классика,Литература 19 века,Русская классика</td>\n",
              "      <td>Михаил Салтыков-Щедрин</td>\n",
              "      <td>1886</td>\n",
              "    </tr>\n",
              "    <tr>\n",
              "      <th>1</th>\n",
              "      <td>256084</td>\n",
              "      <td>Скрипка Ротшильда</td>\n",
              "      <td>Классическая проза,Литература 19 века,Русская классика</td>\n",
              "      <td>Антон Чехов</td>\n",
              "      <td>1894</td>\n",
              "    </tr>\n",
              "    <tr>\n",
              "      <th>2</th>\n",
              "      <td>134166</td>\n",
              "      <td>Испорченные дети</td>\n",
              "      <td>Зарубежная классика,Классическая проза,Литература 19 века,Русская классика</td>\n",
              "      <td>Михаил Салтыков-Щедрин</td>\n",
              "      <td>1869</td>\n",
              "    </tr>\n",
              "    <tr>\n",
              "      <th>3</th>\n",
              "      <td>281311</td>\n",
              "      <td>Странный человек</td>\n",
              "      <td>Пьесы и драматургия,Литература 19 века</td>\n",
              "      <td>Михаил Лермонтов</td>\n",
              "      <td>1831</td>\n",
              "    </tr>\n",
              "    <tr>\n",
              "      <th>4</th>\n",
              "      <td>213473</td>\n",
              "      <td>Господа ташкентцы</td>\n",
              "      <td>Зарубежная классика,Классическая проза,Литература 19 века,Русская классика</td>\n",
              "      <td>Михаил Салтыков-Щедрин</td>\n",
              "      <td>1873</td>\n",
              "    </tr>\n",
              "  </tbody>\n",
              "</table>\n",
              "</div>"
            ],
            "text/plain": [
              "       id              title  ...                 authors  year\n",
              "0  248031   Ворон-челобитчик  ...  Михаил Салтыков-Щедрин  1886\n",
              "1  256084  Скрипка Ротшильда  ...             Антон Чехов  1894\n",
              "2  134166   Испорченные дети  ...  Михаил Салтыков-Щедрин  1869\n",
              "3  281311   Странный человек  ...        Михаил Лермонтов  1831\n",
              "4  213473  Господа ташкентцы  ...  Михаил Салтыков-Щедрин  1873\n",
              "\n",
              "[5 rows x 5 columns]"
            ]
          },
          "metadata": {
            "tags": []
          },
          "execution_count": 15
        }
      ]
    },
    {
      "cell_type": "code",
      "metadata": {
        "colab": {
          "base_uri": "https://localhost:8080/"
        },
        "id": "Sde8Bdoayga6",
        "outputId": "10c7a53c-8687-403c-ec04-06fa23766fa5"
      },
      "source": [
        "items.info(memory_usage='full') # year has object type ???"
      ],
      "execution_count": null,
      "outputs": [
        {
          "output_type": "stream",
          "text": [
            "<class 'pandas.core.frame.DataFrame'>\n",
            "RangeIndex: 63758 entries, 0 to 63757\n",
            "Data columns (total 5 columns):\n",
            " #   Column   Non-Null Count  Dtype \n",
            "---  ------   --------------  ----- \n",
            " 0   id       63758 non-null  int64 \n",
            " 1   title    63758 non-null  object\n",
            " 2   genres   63753 non-null  object\n",
            " 3   authors  56700 non-null  object\n",
            " 4   year     49508 non-null  object\n",
            "dtypes: int64(1), object(4)\n",
            "memory usage: 2.4+ MB\n"
          ],
          "name": "stdout"
        }
      ]
    },
    {
      "cell_type": "code",
      "metadata": {
        "id": "nqaZCSSHymtC"
      },
      "source": [
        "def num_bytes_format(num_bytes, float_prec=4):\n",
        "    units = ['bytes', 'Kb', 'Mb', 'Gb', 'Tb', 'Pb', 'Eb']\n",
        "    for unit in units[:-1]:\n",
        "        if abs(num_bytes) < 1000:\n",
        "            return f'{num_bytes:.{float_prec}f} {unit}'\n",
        "        num_bytes /= 1000\n",
        "    return f'{num_bytes:.4f} {units[-1]}'"
      ],
      "execution_count": null,
      "outputs": []
    },
    {
      "cell_type": "code",
      "metadata": {
        "colab": {
          "base_uri": "https://localhost:8080/",
          "height": 35
        },
        "id": "LaERclObywpA",
        "outputId": "34aea3a0-832f-4959-e5e1-89fad4633799"
      },
      "source": [
        "num_bytes = items.memory_usage(deep=True).sum()\n",
        "num_bytes_format(num_bytes)"
      ],
      "execution_count": null,
      "outputs": [
        {
          "output_type": "execute_result",
          "data": {
            "application/vnd.google.colaboratory.intrinsic+json": {
              "type": "string"
            },
            "text/plain": [
              "'30.0965 Mb'"
            ]
          },
          "metadata": {
            "tags": []
          },
          "execution_count": 18
        }
      ]
    },
    {
      "cell_type": "code",
      "metadata": {
        "colab": {
          "base_uri": "https://localhost:8080/"
        },
        "id": "KzHbrVnZy92J",
        "outputId": "cc5c83b2-c5c0-4caf-f852-65958684ba32"
      },
      "source": [
        "items.nunique()"
      ],
      "execution_count": null,
      "outputs": [
        {
          "output_type": "execute_result",
          "data": {
            "text/plain": [
              "id         63758\n",
              "title      58093\n",
              "genres     11091\n",
              "authors    17024\n",
              "year        1074\n",
              "dtype: int64"
            ]
          },
          "metadata": {
            "tags": []
          },
          "execution_count": 19
        }
      ]
    },
    {
      "cell_type": "code",
      "metadata": {
        "colab": {
          "base_uri": "https://localhost:8080/"
        },
        "id": "9RYByagzzI5L",
        "outputId": "7503a27a-c0b3-4c52-bbfb-0d04083ce364"
      },
      "source": [
        "items['year'].value_counts().tail(25)"
      ],
      "execution_count": null,
      "outputs": [
        {
          "output_type": "execute_result",
          "data": {
            "text/plain": [
              "1892, 1921                            1\n",
              "1860, 1866                            1\n",
              "1938-2003                             1\n",
              "1992–1993                             1\n",
              "1872, 1896–1904                       1\n",
              "1608,1623                             1\n",
              "2005, 2008                            1\n",
              "2010, 2013                            1\n",
              "1962, 1964, 1966                      1\n",
              "2016, 2017                            1\n",
              "1969, 1974                            1\n",
              "1932, 1943                            1\n",
              "1961, 1989                            1\n",
              "1892, 1895, 1901, 1902, 1903, 1916    1\n",
              "1922, 1940                            1\n",
              "1925–1928                             1\n",
              "1929, 1928                            1\n",
              "1910, 1919                            1\n",
              "1898, 1897, 1901                      1\n",
              "1968, 1996, 2003                      1\n",
              "1902, 1914, 1901, 1892                1\n",
              "1890-1951                             1\n",
              "1890, 1893                            1\n",
              "1943-45                               1\n",
              "1888, 1897                            1\n",
              "Name: year, dtype: int64"
            ]
          },
          "metadata": {
            "tags": []
          },
          "execution_count": 20
        }
      ]
    },
    {
      "cell_type": "code",
      "metadata": {
        "colab": {
          "base_uri": "https://localhost:8080/",
          "height": 97
        },
        "id": "ddf2-VIoz0i8",
        "outputId": "59febb45-c98a-470c-d0e1-4f568088f4ed"
      },
      "source": [
        "items[items['year'] == '1898, 1897, 1901']"
      ],
      "execution_count": null,
      "outputs": [
        {
          "output_type": "execute_result",
          "data": {
            "text/html": [
              "<div>\n",
              "<style scoped>\n",
              "    .dataframe tbody tr th:only-of-type {\n",
              "        vertical-align: middle;\n",
              "    }\n",
              "\n",
              "    .dataframe tbody tr th {\n",
              "        vertical-align: top;\n",
              "    }\n",
              "\n",
              "    .dataframe thead th {\n",
              "        text-align: right;\n",
              "    }\n",
              "</style>\n",
              "<table border=\"1\" class=\"dataframe\">\n",
              "  <thead>\n",
              "    <tr style=\"text-align: right;\">\n",
              "      <th></th>\n",
              "      <th>id</th>\n",
              "      <th>title</th>\n",
              "      <th>genres</th>\n",
              "      <th>authors</th>\n",
              "      <th>year</th>\n",
              "    </tr>\n",
              "  </thead>\n",
              "  <tbody>\n",
              "    <tr>\n",
              "      <th>43260</th>\n",
              "      <td>86545</td>\n",
              "      <td>«Мальчик, который рисовал кошек» и другие истории о вещах странных и примечательных</td>\n",
              "      <td>Ужасы,Мистика,Зарубежная классика,Литература 19 века,Литература 20 века</td>\n",
              "      <td>Лафкадио Хирн</td>\n",
              "      <td>1898, 1897, 1901</td>\n",
              "    </tr>\n",
              "  </tbody>\n",
              "</table>\n",
              "</div>"
            ],
            "text/plain": [
              "          id  ...              year\n",
              "43260  86545  ...  1898, 1897, 1901\n",
              "\n",
              "[1 rows x 5 columns]"
            ]
          },
          "metadata": {
            "tags": []
          },
          "execution_count": 21
        }
      ]
    },
    {
      "cell_type": "code",
      "metadata": {
        "id": "avFY6Js5z71-"
      },
      "source": [
        "for col in ['genres', 'authors', 'year']:\n",
        "    items[col] = items[col].astype('category')"
      ],
      "execution_count": null,
      "outputs": []
    },
    {
      "cell_type": "code",
      "metadata": {
        "colab": {
          "base_uri": "https://localhost:8080/"
        },
        "id": "9UxK2DU31VdZ",
        "outputId": "13273488-f72a-4427-9a48-d4d61ed3d4d4"
      },
      "source": [
        "items.info(memory_usage='full')"
      ],
      "execution_count": null,
      "outputs": [
        {
          "output_type": "stream",
          "text": [
            "<class 'pandas.core.frame.DataFrame'>\n",
            "RangeIndex: 63758 entries, 0 to 63757\n",
            "Data columns (total 5 columns):\n",
            " #   Column   Non-Null Count  Dtype   \n",
            "---  ------   --------------  -----   \n",
            " 0   id       63758 non-null  int64   \n",
            " 1   title    63758 non-null  object  \n",
            " 2   genres   63753 non-null  category\n",
            " 3   authors  56700 non-null  category\n",
            " 4   year     49508 non-null  category\n",
            "dtypes: category(3), int64(1), object(1)\n",
            "memory usage: 2.5+ MB\n"
          ],
          "name": "stdout"
        }
      ]
    },
    {
      "cell_type": "code",
      "metadata": {
        "colab": {
          "base_uri": "https://localhost:8080/",
          "height": 35
        },
        "id": "XzMulgUq1Xyb",
        "outputId": "f9f7eefa-c506-45bd-f421-195864b623d9"
      },
      "source": [
        "num_bytes = items.memory_usage(deep=True).sum()\n",
        "num_bytes_format(num_bytes)"
      ],
      "execution_count": null,
      "outputs": [
        {
          "output_type": "execute_result",
          "data": {
            "application/vnd.google.colaboratory.intrinsic+json": {
              "type": "string"
            },
            "text/plain": [
              "'18.6994 Mb'"
            ]
          },
          "metadata": {
            "tags": []
          },
          "execution_count": 24
        }
      ]
    },
    {
      "cell_type": "code",
      "metadata": {
        "colab": {
          "base_uri": "https://localhost:8080/"
        },
        "id": "SIWKiPjz1j2U",
        "outputId": "3a67ec59-d98f-46ff-d333-0b12e81fe767"
      },
      "source": [
        "interaction_items = df['item_id'].unique()\n",
        "\n",
        "common_items = len(np.intersect1d(interaction_items, items['id']))\n",
        "items_only_in_interaction = len(np.setdiff1d(interaction_items, items['id']))\n",
        "items_only_features = len(np.setdiff1d(items['id'], interaction_items))\n",
        "total_items = common_items + items_only_in_interaction + items_only_features\n",
        "print(f'Кол-во книг - {total_items}')\n",
        "print(f'Кол-во книг c взаимодействиями и фичами - {common_items} ({common_items / total_items * 100:.2f}%)')\n",
        "print(f'Кол-во книг только c взаимодействиями - {items_only_in_interaction} ({items_only_in_interaction / total_items * 100:.2f}%)')\n",
        "print(f'Кол-во книг только c фичами - {items_only_features} ({items_only_features / total_items * 100:.2f}%)')"
      ],
      "execution_count": null,
      "outputs": [
        {
          "output_type": "stream",
          "text": [
            "Кол-во книг - 63758\n",
            "Кол-во книг c взаимодействиями и фичами - 63758 (100.00%)\n",
            "Кол-во книг только c взаимодействиями - 0 (0.00%)\n",
            "Кол-во книг только c фичами - 0 (0.00%)\n"
          ],
          "name": "stdout"
        }
      ]
    },
    {
      "cell_type": "code",
      "metadata": {
        "id": "TjdqEAao1xD9"
      },
      "source": [
        "items.to_pickle('/content/drive/MyDrive/Colab Notebooks/MTS_teta/Kaggle_recomend_sys/items_preprocessed.pickle')"
      ],
      "execution_count": null,
      "outputs": []
    },
    {
      "cell_type": "code",
      "metadata": {
        "id": "m_fys9657l1_"
      },
      "source": [
        ""
      ],
      "execution_count": null,
      "outputs": []
    }
  ]
}